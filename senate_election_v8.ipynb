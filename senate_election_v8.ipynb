{
  "nbformat": 4,
  "nbformat_minor": 0,
  "metadata": {
    "colab": {
      "provenance": [],
      "authorship_tag": "ABX9TyP/ZXKFGBU5zsa2S260xRGs",
      "include_colab_link": true
    },
    "kernelspec": {
      "name": "python3",
      "display_name": "Python 3"
    },
    "language_info": {
      "name": "python"
    }
  },
  "cells": [
    {
      "cell_type": "markdown",
      "metadata": {
        "id": "view-in-github",
        "colab_type": "text"
      },
      "source": [
        "<a href=\"https://colab.research.google.com/github/benhakunama/machinelearning/blob/main/senate_election_v8.ipynb\" target=\"_parent\"><img src=\"https://colab.research.google.com/assets/colab-badge.svg\" alt=\"Open In Colab\"/></a>"
      ]
    },
    {
      "cell_type": "code",
      "execution_count": 1,
      "metadata": {
        "id": "eilHKlp-AlXm"
      },
      "outputs": [],
      "source": [
        "from tensorflow import keras\n",
        "from keras.preprocessing.image import ImageDataGenerator as IDG\n",
        "import pandas as pd\n",
        "from sklearn.model_selection import train_test_split\n",
        "import os"
      ]
    },
    {
      "cell_type": "code",
      "source": [
        "import pandas as pd\n",
        "from sklearn.model_selection import train_test_split, GridSearchCV\n",
        "from sklearn.preprocessing import OneHotEncoder, StandardScaler\n",
        "from sklearn.compose import ColumnTransformer\n",
        "from sklearn.feature_selection import RFECV\n",
        "from sklearn.tree import DecisionTreeClassifier\n",
        "from sklearn.ensemble import GradientBoostingClassifier, BaggingClassifier, RandomForestClassifier\n",
        "from sklearn.metrics import accuracy_score, confusion_matrix, precision_recall_curve\n",
        "import matplotlib.pyplot as plt\n",
        "from xgboost import XGBClassifier\n"
      ],
      "metadata": {
        "id": "EmSU0g-SA1pb"
      },
      "execution_count": 2,
      "outputs": []
    },
    {
      "cell_type": "code",
      "source": [
        "from sklearn.model_selection import train_test_split, cross_val_predict\n",
        "from sklearn.svm import SVC\n",
        "from sklearn.ensemble import RandomForestClassifier\n",
        "from sklearn.linear_model import SGDClassifier\n",
        "from sklearn.neighbors import KNeighborsClassifier\n",
        "from sklearn.naive_bayes import GaussianNB\n",
        "from sklearn.decomposition import PCA\n",
        "from xgboost import XGBClassifier\n",
        "from sklearn.preprocessing import LabelEncoder, MinMaxScaler\n",
        "from sklearn.metrics import confusion_matrix, precision_score, recall_score, f1_score\n",
        "import time\n",
        "import warnings\n",
        "warnings.filterwarnings(\"ignore\", category=DeprecationWarning)\n",
        "%matplotlib inline"
      ],
      "metadata": {
        "id": "-9qsbG3YSHs8"
      },
      "execution_count": 3,
      "outputs": []
    },
    {
      "cell_type": "code",
      "source": [
        "from sklearn.linear_model import LogisticRegression"
      ],
      "metadata": {
        "id": "pHk_IuqpSo_R"
      },
      "execution_count": 4,
      "outputs": []
    },
    {
      "cell_type": "code",
      "source": [
        "from sklearn import metrics"
      ],
      "metadata": {
        "id": "BfCAackqTDHS"
      },
      "execution_count": 5,
      "outputs": []
    },
    {
      "cell_type": "code",
      "source": [
        "df_train = pd.read_csv(\"df.train_encoded.csv\")\n",
        "df_test = pd.read_csv(\"df.test_encoded.csv\")"
      ],
      "metadata": {
        "id": "aWJAj-vYM4Fo"
      },
      "execution_count": 6,
      "outputs": []
    },
    {
      "cell_type": "code",
      "source": [
        "df_predict = pd.read_csv(\"network_fold_1\")"
      ],
      "metadata": {
        "id": "rTKrPGNaFCxk"
      },
      "execution_count": 37,
      "outputs": []
    },
    {
      "cell_type": "code",
      "source": [
        "\n",
        "\n",
        "df_predict.columns"
      ],
      "metadata": {
        "id": "Xx8DO9cQFE7-",
        "outputId": "cf37dbe8-55d3-47fc-a633-88897b5f5c1e",
        "colab": {
          "base_uri": "https://localhost:8080/"
        }
      },
      "execution_count": 38,
      "outputs": [
        {
          "output_type": "execute_result",
          "data": {
            "text/plain": [
              "Index(['Unnamed: 0', 'y_hats'], dtype='object')"
            ]
          },
          "metadata": {},
          "execution_count": 38
        }
      ]
    },
    {
      "cell_type": "code",
      "source": [
        "df_predict['y_hats'] = df_predict['y_hats'].astype(float)"
      ],
      "metadata": {
        "id": "in7PkuKdFsmB"
      },
      "execution_count": 40,
      "outputs": []
    },
    {
      "cell_type": "code",
      "source": [
        "#df_predict = pd.read_csv(\"network_fold_1\")\n",
        "\n",
        "df_predict['label'] = df_predict.apply(lambda row: 1 if row.y_hats > 0.5 else 0, axis =1 )\n",
        "file_name = 'predict_network.csv'\n",
        "df_predict.to_csv(file_name, sep=',')\n"
      ],
      "metadata": {
        "id": "yZe2JyR_ECFb"
      },
      "execution_count": 41,
      "outputs": []
    },
    {
      "cell_type": "code",
      "source": [
        "df_predict.head()"
      ],
      "metadata": {
        "id": "KkW71FrXGAn6",
        "outputId": "95564299-f607-4cf3-f4fe-bfbc7d2f7230",
        "colab": {
          "base_uri": "https://localhost:8080/",
          "height": 206
        }
      },
      "execution_count": 42,
      "outputs": [
        {
          "output_type": "execute_result",
          "data": {
            "text/plain": [
              "   Unnamed: 0    y_hats  label\n",
              "0           0  0.999972      1\n",
              "1           1  1.000000      1\n",
              "2           2  1.000000      1\n",
              "3           3  0.999416      1\n",
              "4           4  0.999996      1"
            ],
            "text/html": [
              "\n",
              "  <div id=\"df-e97e5b66-fe84-4b2f-a84e-157db1db5035\">\n",
              "    <div class=\"colab-df-container\">\n",
              "      <div>\n",
              "<style scoped>\n",
              "    .dataframe tbody tr th:only-of-type {\n",
              "        vertical-align: middle;\n",
              "    }\n",
              "\n",
              "    .dataframe tbody tr th {\n",
              "        vertical-align: top;\n",
              "    }\n",
              "\n",
              "    .dataframe thead th {\n",
              "        text-align: right;\n",
              "    }\n",
              "</style>\n",
              "<table border=\"1\" class=\"dataframe\">\n",
              "  <thead>\n",
              "    <tr style=\"text-align: right;\">\n",
              "      <th></th>\n",
              "      <th>Unnamed: 0</th>\n",
              "      <th>y_hats</th>\n",
              "      <th>label</th>\n",
              "    </tr>\n",
              "  </thead>\n",
              "  <tbody>\n",
              "    <tr>\n",
              "      <th>0</th>\n",
              "      <td>0</td>\n",
              "      <td>0.999972</td>\n",
              "      <td>1</td>\n",
              "    </tr>\n",
              "    <tr>\n",
              "      <th>1</th>\n",
              "      <td>1</td>\n",
              "      <td>1.000000</td>\n",
              "      <td>1</td>\n",
              "    </tr>\n",
              "    <tr>\n",
              "      <th>2</th>\n",
              "      <td>2</td>\n",
              "      <td>1.000000</td>\n",
              "      <td>1</td>\n",
              "    </tr>\n",
              "    <tr>\n",
              "      <th>3</th>\n",
              "      <td>3</td>\n",
              "      <td>0.999416</td>\n",
              "      <td>1</td>\n",
              "    </tr>\n",
              "    <tr>\n",
              "      <th>4</th>\n",
              "      <td>4</td>\n",
              "      <td>0.999996</td>\n",
              "      <td>1</td>\n",
              "    </tr>\n",
              "  </tbody>\n",
              "</table>\n",
              "</div>\n",
              "      <button class=\"colab-df-convert\" onclick=\"convertToInteractive('df-e97e5b66-fe84-4b2f-a84e-157db1db5035')\"\n",
              "              title=\"Convert this dataframe to an interactive table.\"\n",
              "              style=\"display:none;\">\n",
              "        \n",
              "  <svg xmlns=\"http://www.w3.org/2000/svg\" height=\"24px\"viewBox=\"0 0 24 24\"\n",
              "       width=\"24px\">\n",
              "    <path d=\"M0 0h24v24H0V0z\" fill=\"none\"/>\n",
              "    <path d=\"M18.56 5.44l.94 2.06.94-2.06 2.06-.94-2.06-.94-.94-2.06-.94 2.06-2.06.94zm-11 1L8.5 8.5l.94-2.06 2.06-.94-2.06-.94L8.5 2.5l-.94 2.06-2.06.94zm10 10l.94 2.06.94-2.06 2.06-.94-2.06-.94-.94-2.06-.94 2.06-2.06.94z\"/><path d=\"M17.41 7.96l-1.37-1.37c-.4-.4-.92-.59-1.43-.59-.52 0-1.04.2-1.43.59L10.3 9.45l-7.72 7.72c-.78.78-.78 2.05 0 2.83L4 21.41c.39.39.9.59 1.41.59.51 0 1.02-.2 1.41-.59l7.78-7.78 2.81-2.81c.8-.78.8-2.07 0-2.86zM5.41 20L4 18.59l7.72-7.72 1.47 1.35L5.41 20z\"/>\n",
              "  </svg>\n",
              "      </button>\n",
              "      \n",
              "  <style>\n",
              "    .colab-df-container {\n",
              "      display:flex;\n",
              "      flex-wrap:wrap;\n",
              "      gap: 12px;\n",
              "    }\n",
              "\n",
              "    .colab-df-convert {\n",
              "      background-color: #E8F0FE;\n",
              "      border: none;\n",
              "      border-radius: 50%;\n",
              "      cursor: pointer;\n",
              "      display: none;\n",
              "      fill: #1967D2;\n",
              "      height: 32px;\n",
              "      padding: 0 0 0 0;\n",
              "      width: 32px;\n",
              "    }\n",
              "\n",
              "    .colab-df-convert:hover {\n",
              "      background-color: #E2EBFA;\n",
              "      box-shadow: 0px 1px 2px rgba(60, 64, 67, 0.3), 0px 1px 3px 1px rgba(60, 64, 67, 0.15);\n",
              "      fill: #174EA6;\n",
              "    }\n",
              "\n",
              "    [theme=dark] .colab-df-convert {\n",
              "      background-color: #3B4455;\n",
              "      fill: #D2E3FC;\n",
              "    }\n",
              "\n",
              "    [theme=dark] .colab-df-convert:hover {\n",
              "      background-color: #434B5C;\n",
              "      box-shadow: 0px 1px 3px 1px rgba(0, 0, 0, 0.15);\n",
              "      filter: drop-shadow(0px 1px 2px rgba(0, 0, 0, 0.3));\n",
              "      fill: #FFFFFF;\n",
              "    }\n",
              "  </style>\n",
              "\n",
              "      <script>\n",
              "        const buttonEl =\n",
              "          document.querySelector('#df-e97e5b66-fe84-4b2f-a84e-157db1db5035 button.colab-df-convert');\n",
              "        buttonEl.style.display =\n",
              "          google.colab.kernel.accessAllowed ? 'block' : 'none';\n",
              "\n",
              "        async function convertToInteractive(key) {\n",
              "          const element = document.querySelector('#df-e97e5b66-fe84-4b2f-a84e-157db1db5035');\n",
              "          const dataTable =\n",
              "            await google.colab.kernel.invokeFunction('convertToInteractive',\n",
              "                                                     [key], {});\n",
              "          if (!dataTable) return;\n",
              "\n",
              "          const docLinkHtml = 'Like what you see? Visit the ' +\n",
              "            '<a target=\"_blank\" href=https://colab.research.google.com/notebooks/data_table.ipynb>data table notebook</a>'\n",
              "            + ' to learn more about interactive tables.';\n",
              "          element.innerHTML = '';\n",
              "          dataTable['output_type'] = 'display_data';\n",
              "          await google.colab.output.renderOutput(dataTable, element);\n",
              "          const docLink = document.createElement('div');\n",
              "          docLink.innerHTML = docLinkHtml;\n",
              "          element.appendChild(docLink);\n",
              "        }\n",
              "      </script>\n",
              "    </div>\n",
              "  </div>\n",
              "  "
            ]
          },
          "metadata": {},
          "execution_count": 42
        }
      ]
    },
    {
      "cell_type": "code",
      "source": [
        "df_train.columns"
      ],
      "metadata": {
        "colab": {
          "base_uri": "https://localhost:8080/"
        },
        "id": "gR1ibW67NMUr",
        "outputId": "1db3aedc-4be8-4125-9a29-f21908716251"
      },
      "execution_count": null,
      "outputs": [
        {
          "output_type": "execute_result",
          "data": {
            "text/plain": [
              "Index(['population_fulla', 'population_fulllv', 'population_fullrv',\n",
              "       'population_fullv', 'sample_size', 'sponsor_candidate_partyDEM',\n",
              "       'sponsor_candidate_partyREP', 'stateAlaska', 'stateArizona',\n",
              "       'stateArkansas',\n",
              "       ...\n",
              "       'fte_grade_B..1', 'fte_grade_D', 'fte_grade_C.', 'fte_grade_A',\n",
              "       'fte_grade_A..1', 'fte_grade_F', 'fte_grade_C..1', 'start_elect_ndays',\n",
              "       'end_elect_ndays', 'prewinner'],\n",
              "      dtype='object', length=120)"
            ]
          },
          "metadata": {},
          "execution_count": 75
        }
      ]
    },
    {
      "cell_type": "code",
      "source": [
        "X = df_train.drop(['prewinner'], axis=1)\n",
        "y = df_train['prewinner']\n"
      ],
      "metadata": {
        "id": "HG_Ko5O3RJlZ"
      },
      "execution_count": 7,
      "outputs": []
    },
    {
      "cell_type": "code",
      "source": [
        "Xt2 = df_test.drop(['prewinner'], axis=1)\n",
        "y2 = df_test['prewinner']"
      ],
      "metadata": {
        "id": "z7LNGP_KNcH7"
      },
      "execution_count": 8,
      "outputs": []
    },
    {
      "cell_type": "code",
      "source": [
        "len(X)"
      ],
      "metadata": {
        "colab": {
          "base_uri": "https://localhost:8080/"
        },
        "id": "Ohd-kCSjRZED",
        "outputId": "04420cbe-98b3-46c0-d995-bf8b21879f3c"
      },
      "execution_count": null,
      "outputs": [
        {
          "output_type": "execute_result",
          "data": {
            "text/plain": [
              "1140"
            ]
          },
          "metadata": {},
          "execution_count": 78
        }
      ]
    },
    {
      "cell_type": "code",
      "source": [
        "from sklearn.model_selection import KFold, StratifiedKFold"
      ],
      "metadata": {
        "id": "Pltj4lFQNn69"
      },
      "execution_count": 9,
      "outputs": []
    },
    {
      "cell_type": "code",
      "source": [
        "from sklearn.compose import ColumnTransformer\n",
        "from sklearn.preprocessing import StandardScaler, OneHotEncoder\n",
        "\n",
        "num_columns = [\"PredictedWinnerPct\", \"NumberofCandidates\", \"start_elect_ndays\", \"end_elect_ndays\", \"duration\", \"sample_size\"]\n",
        "\n",
        "transformer = ColumnTransformer(transformers=[('cat', StandardScaler(), num_columns)], remainder='passthrough')\n",
        "X = transformer.fit_transform(X)\n",
        "X2 = transformer.transform(Xt2)"
      ],
      "metadata": {
        "id": "EJRQ4t6wq53a"
      },
      "execution_count": 11,
      "outputs": []
    },
    {
      "cell_type": "code",
      "source": [
        "kf = KFold(n_splits=5)\n",
        "\n",
        "for train_index, test_index in kf.split(X):\n",
        "    print(\"TRAIN:\", train_index, \"TEST:\", test_index)\n",
        "    X_train, X_test = X[train_index], X[test_index]\n",
        "    y_train, y_test = y[train_index], y[test_index]\n",
        "\n"
      ],
      "metadata": {
        "id": "RUXJcW-Urqh3"
      },
      "execution_count": null,
      "outputs": []
    },
    {
      "cell_type": "code",
      "source": [
        "from sklearn.model_selection import cross_val_score\n"
      ],
      "metadata": {
        "id": "RNlmxJZezrdp"
      },
      "execution_count": 18,
      "outputs": []
    },
    {
      "cell_type": "code",
      "source": [
        "from numpy import mean"
      ],
      "metadata": {
        "id": "PQmerSgn1RB9"
      },
      "execution_count": 19,
      "outputs": []
    },
    {
      "cell_type": "code",
      "source": [
        "cv = KFold(n_splits=5, shuffle=True, random_state=1)\n",
        "model = XGBClassifier(n_estimators=100)\n",
        "scores = cross_val_score(model, X, y, scoring='accuracy', cv=cv, n_jobs=-1)\n",
        "# return scores\n",
        "k_mean, k_min, k_max = mean(scores), scores.min(), scores.max()\n",
        "print('traing with cross validation accuracy=%.3f (%.3f,%.3f)' % (k_mean, k_min, k_max))\n",
        "model.fit(X, y)\n",
        "prediction_start = time.perf_counter()\n",
        "preds = model.predict(X2)\n",
        "prediction_end = time.perf_counter()\n",
        "acc_xgb = (preds == y2).sum().astype(float) / len(preds)*100\n",
        "xgb_prediction_time = prediction_end-prediction_start\n",
        "print(\"XGBoost's prediction accuracy is: %3.2f\" % (acc_xgb))\n"
      ],
      "metadata": {
        "id": "0m0cnBYfzuUx",
        "outputId": "f1aadf72-b06b-48a1-ac3b-21e89bceb609",
        "colab": {
          "base_uri": "https://localhost:8080/"
        }
      },
      "execution_count": 24,
      "outputs": [
        {
          "output_type": "stream",
          "name": "stdout",
          "text": [
            "traing with cross validation accuracy=0.765 (0.737,0.798)\n",
            "XGBoost's prediction accuracy is: 55.56\n"
          ]
        }
      ]
    },
    {
      "cell_type": "code",
      "source": [
        "X_train, X_test, y_train, y_test = train_test_split(X, y, test_size=0.2)"
      ],
      "metadata": {
        "id": "c6zRY4SlRdAU"
      },
      "execution_count": null,
      "outputs": []
    },
    {
      "cell_type": "code",
      "source": [
        "\n",
        "X_train = transformer.fit_transform(X_train)\n",
        "X_test = transformer.transform(X_test)\n",
        "X2 = transformer.transform(Xt2)\n"
      ],
      "metadata": {
        "id": "VkAHd0tLOgre"
      },
      "execution_count": null,
      "outputs": []
    },
    {
      "cell_type": "code",
      "source": [
        "X_train.shape"
      ],
      "metadata": {
        "colab": {
          "base_uri": "https://localhost:8080/"
        },
        "id": "pblzsjCpOhRI",
        "outputId": "705cd875-2fbb-4fa0-cbd9-9148f8b73b5b"
      },
      "execution_count": null,
      "outputs": [
        {
          "output_type": "execute_result",
          "data": {
            "text/plain": [
              "(912, 119)"
            ]
          },
          "metadata": {},
          "execution_count": 130
        }
      ]
    },
    {
      "cell_type": "code",
      "source": [
        "knn = KNeighborsClassifier()\n",
        "training_start = time.perf_counter()\n",
        "knn.fit(X_train, y_train)\n",
        "training_end = time.perf_counter()\n",
        "# predict test in training data test\n",
        "prediction_start = time.perf_counter()\n",
        "preds = knn.predict(X_test)\n",
        "prediction_end = time.perf_counter()\n",
        "acc_knn = (preds == y_test).sum().astype(float) / len(preds)*100\n",
        "knn_train_time = training_end-training_start\n",
        "knn_prediction_time = prediction_end-prediction_start\n",
        "print(\"Scikit-Learn's K Nearest Neighbors Classifier's prediction accuracy is: %3.2f\" % (acc_knn))\n",
        "#print(\"Time consumed for training: %4.3f seconds\" % (knn_train_time))\n",
        "#print(\"Time consumed for prediction: %6.5f seconds\" % (knn_prediction_time))\n",
        "# predict test in test data test\n",
        "prediction_start = time.perf_counter()\n",
        "preds = knn.predict(X2)\n",
        "prediction_end = time.perf_counter()\n",
        "acc_knn = (preds == y2).sum().astype(float) / len(preds)*100\n",
        "knn_train_time = training_end-training_start\n",
        "knn_prediction_time = prediction_end-prediction_start\n",
        "print(\"Scikit-Learn's K Nearest Neighbors Classifier's prediction accuracy is: %3.2f\" % (acc_knn))\n",
        "#print(\"Time consumed for training: %4.3f seconds\" % (knn_train_time))\n",
        "#print(\"Time consumed for prediction: %6.5f seconds\" % (knn_prediction_time))"
      ],
      "metadata": {
        "colab": {
          "base_uri": "https://localhost:8080/"
        },
        "id": "2u8WNhBiR5AM",
        "outputId": "b0e1da73-43ab-465f-e992-486a24c81016"
      },
      "execution_count": null,
      "outputs": [
        {
          "output_type": "stream",
          "name": "stdout",
          "text": [
            "Scikit-Learn's K Nearest Neighbors Classifier's prediction accuracy is: 69.74\n",
            "Scikit-Learn's K Nearest Neighbors Classifier's prediction accuracy is: 47.22\n"
          ]
        }
      ]
    },
    {
      "cell_type": "code",
      "source": [
        "xgb = XGBClassifier(n_estimators=100)\n",
        "training_start = time.perf_counter()\n",
        "xgb.fit(X_train, y_train)\n",
        "training_end = time.perf_counter()\n",
        "# predict test in training data test\n",
        "prediction_start = time.perf_counter()\n",
        "preds = xgb.predict(X_test)\n",
        "prediction_end = time.perf_counter()\n",
        "acc_xgb = (preds == y_test).sum().astype(float) / len(preds)*100\n",
        "xgb_train_time = training_end-training_start\n",
        "xgb_prediction_time = prediction_end-prediction_start\n",
        "print(\"XGBoost's prediction accuracy is: %3.2f\" % (acc_xgb))\n",
        "#print(\"Time consumed for training: %4.3f\" % (xgb_train_time))\n",
        "#print(\"Time consumed for prediction: %6.5f seconds\" % (xgb_prediction_time))\n",
        "# predict test in test data test\n",
        "prediction_start = time.perf_counter()\n",
        "preds = xgb.predict(X2)\n",
        "prediction_end = time.perf_counter()\n",
        "acc_xgb = (preds == y2).sum().astype(float) / len(preds)*100\n",
        "xgb_train_time = training_end-training_start\n",
        "xgb_prediction_time = prediction_end-prediction_start\n",
        "print(\"XGBoost's prediction accuracy is: %3.2f\" % (acc_xgb))\n",
        "#print(\"Time consumed for training: %4.3f\" % (xgb_train_time))\n",
        "#print(\"Time consumed for prediction: %6.5f seconds\" % (xgb_prediction_time))\n"
      ],
      "metadata": {
        "colab": {
          "base_uri": "https://localhost:8080/"
        },
        "id": "pV3twKVAR82r",
        "outputId": "838fb98a-2ceb-4ffe-ce67-3db81894adfb"
      },
      "execution_count": null,
      "outputs": [
        {
          "output_type": "stream",
          "name": "stdout",
          "text": [
            "XGBoost's prediction accuracy is: 78.07\n",
            "XGBoost's prediction accuracy is: 59.44\n"
          ]
        }
      ]
    },
    {
      "cell_type": "code",
      "source": [
        "#lr = LogisticRegression(random_state=0, solver='lbfgs',multi_class='multinomial')\n",
        "lr = LogisticRegression(random_state=16)\n",
        "lr.fit(X_train, y_train)\n",
        "lr_test_pred = lr.predict(X_test)\n",
        "print('The accuracy of the Logistic Regression is', metrics.accuracy_score(lr_test_pred,y_test))\n",
        "\n",
        "lr_test_pred = lr.predict(X2)\n",
        "print('The accuracy of the Logistic Regression is', metrics.accuracy_score(lr_test_pred,y2))\n"
      ],
      "metadata": {
        "colab": {
          "base_uri": "https://localhost:8080/"
        },
        "id": "682RhVCZSP_U",
        "outputId": "8d435d92-f3ef-4f55-d50b-62b90291970a"
      },
      "execution_count": null,
      "outputs": [
        {
          "output_type": "stream",
          "name": "stdout",
          "text": [
            "The accuracy of the Logistic Regression is 0.7456140350877193\n",
            "The accuracy of the Logistic Regression is 0.5666666666666667\n"
          ]
        }
      ]
    },
    {
      "cell_type": "code",
      "source": [
        "rfc = RandomForestClassifier(min_samples_split = 0.01)\n",
        "rfc.fit(X_train, y_train)\n",
        "\n",
        "rfc_test_pred = rfc.predict(X_test)\n",
        "print('The accuracy of the Logistic Regression is', metrics.accuracy_score(rfc_test_pred,y_test))\n",
        "\n",
        "rfc_test_pred = rfc.predict(X2)\n",
        "print('The accuracy of the Logistic Regression is', metrics.accuracy_score(rfc_test_pred,y2))"
      ],
      "metadata": {
        "colab": {
          "base_uri": "https://localhost:8080/"
        },
        "id": "I0Vp-TfpSw9Y",
        "outputId": "8c0886c6-7483-41ea-bfa8-f1fe75f8bd2c"
      },
      "execution_count": null,
      "outputs": [
        {
          "output_type": "stream",
          "name": "stdout",
          "text": [
            "The accuracy of the Logistic Regression is 0.7763157894736842\n",
            "The accuracy of the Logistic Regression is 0.5611111111111111\n"
          ]
        }
      ]
    },
    {
      "cell_type": "code",
      "source": [
        "from tensorflow import keras"
      ],
      "metadata": {
        "id": "LyraHb_xTwix"
      },
      "execution_count": 25,
      "outputs": []
    },
    {
      "cell_type": "code",
      "source": [
        "import tensorflow as tf\n",
        "from tensorflow.keras.models import Sequential\n",
        "from tensorflow.keras.layers import Dense\n"
      ],
      "metadata": {
        "id": "yP1Bo9ioU6zS"
      },
      "execution_count": 26,
      "outputs": []
    },
    {
      "cell_type": "code",
      "source": [
        "X_train.shape"
      ],
      "metadata": {
        "colab": {
          "base_uri": "https://localhost:8080/"
        },
        "id": "GgviCceSUToH",
        "outputId": "34def51d-13bb-4c71-8111-af19ae8d2a73"
      },
      "execution_count": null,
      "outputs": [
        {
          "output_type": "execute_result",
          "data": {
            "text/plain": [
              "(912, 119)"
            ]
          },
          "metadata": {},
          "execution_count": 102
        }
      ]
    },
    {
      "cell_type": "code",
      "source": [
        "y_train.shape"
      ],
      "metadata": {
        "colab": {
          "base_uri": "https://localhost:8080/"
        },
        "id": "VojM91D3UW3c",
        "outputId": "19cc1242-ec92-4be8-b28f-5028ddf51b47"
      },
      "execution_count": null,
      "outputs": [
        {
          "output_type": "execute_result",
          "data": {
            "text/plain": [
              "(883,)"
            ]
          },
          "metadata": {},
          "execution_count": 123
        }
      ]
    },
    {
      "cell_type": "code",
      "source": [
        "from sklearn.model_selection import KFold, StratifiedKFold, cross_val_score\n",
        "from sklearn import linear_model, tree, ensemble"
      ],
      "metadata": {
        "id": "qkz9GooY3tDk"
      },
      "execution_count": 27,
      "outputs": []
    },
    {
      "cell_type": "code",
      "source": [
        "def get_model_simple():\n",
        "  model = Sequential()\n",
        "  # Add input layer with 119 neurons\n",
        "  model.add(Dense(119, input_dim=119, activation='relu'))\n",
        "\n",
        "  # Add a hidden layer with 32 neurons\n",
        "  model.add(Dense(521, activation='relu'))\n",
        "\n",
        "  # Add a hidden layer with 32 neurons\n",
        "  model.add(Dense(256, activation='relu'))\n",
        "\n",
        "  # Add a hidden layer with 32 neurons\n",
        "  model.add(Dense(64, activation='relu'))\n",
        "\n",
        "  # Add a hidden layer with 32 neurons\n",
        "  model.add(Dense(32, activation='relu'))\n",
        "\n",
        "  # Add a hidden layer with 16 neurons\n",
        "  model.add(Dense(16, activation='relu'))\n",
        "\n",
        "  # Add a hidden layer with 16 neurons\n",
        "  model.add(Dense(8, activation='relu'))\n",
        "\n",
        "  # Add a hidden layer with 16 neurons\n",
        "  #model.add(Dense(4, activation='relu'))\n",
        "\n",
        "  # Add output layer with 1 neuron and sigmoid activation for binary classification\n",
        "  model.add(Dense(1, activation='sigmoid'))\n",
        "\n",
        "  # Compile the model with binary cross-entropy loss function and Adam optimizer\n",
        "  model.compile(loss='binary_crossentropy', optimizer='adam', metrics=['accuracy'])\n",
        "  return model"
      ],
      "metadata": {
        "id": "hR0GWaoe7i8D"
      },
      "execution_count": 30,
      "outputs": []
    },
    {
      "cell_type": "code",
      "source": [
        "# Lets split the data into 5 folds.  \n",
        "# We will use this 'kf'(KFold splitting stratergy) object as input to cross_val_score() method\n",
        "kf =KFold(n_splits=5, shuffle=True, random_state=42)\n",
        "\n",
        "cnt = 1\n",
        "best_test_acc = 0\n",
        "best_model = Sequential()\n",
        "total_train_acc = []\n",
        "total_test_acc = []\n",
        "# split()  method generate indices to split data into training and test set.\n",
        "for train_index, test_index in kf.split(X, y):\n",
        "  print(f'Fold:{cnt}, Train set: {len(train_index)}, Test set:{len(test_index)}')\n",
        "  X_train, X_test = X[train_index], X[test_index]\n",
        "  y_train, y_test = y[train_index], y[test_index]    \n",
        "  cnt += 1\n",
        "  model = get_model_simple()\n",
        "  # Train the model on the training data\n",
        "  history = model.fit(X_train, y_train, epochs=50, batch_size=32, validation_split=0.2, verbose=0)\n",
        "  test_loss, test_acc = model.evaluate(X_test, y_test)\n",
        "  print('Test accuracy in training data:', test_acc)\n",
        "  total_train_acc.append(test_acc)\n",
        "  test_loss, test_acc2 = model.evaluate(X2, y2)\n",
        "  print('Real Future Test accuracy:', test_acc2)\n",
        "  total_test_acc.append(test_acc2)\n",
        "  if best_test_acc < test_acc2:\n",
        "    best_test_acc = test_acc2\n",
        "    best_model = model    \n",
        "    #network_test_pred = best_model.predict(X2)\n",
        "    y_hats = best_model.predict(X2)\n",
        "    file_name = \"network_fold_\" + str(cnt-1)\n",
        "    y_hats_df = pd.DataFrame(data = y_hats, columns = ['y_hats'])    \n",
        "    y_hats_df.to_csv(file_name, sep=',')\n",
        "print('Test accuracy in training data:', total_train_acc)\n",
        "print('Test accuracy in test data:', total_test_acc)"
      ],
      "metadata": {
        "id": "2hPu5suw_1BZ",
        "outputId": "31d6edd5-ca7a-4e17-fa3a-eb17d7e7d938",
        "colab": {
          "base_uri": "https://localhost:8080/"
        }
      },
      "execution_count": 35,
      "outputs": [
        {
          "output_type": "stream",
          "name": "stdout",
          "text": [
            "Fold:1, Train set: 912, Test set:228\n",
            "8/8 [==============================] - 0s 5ms/step - loss: 3.2442 - accuracy: 0.6930\n",
            "Test accuracy in training data: 0.6929824352264404\n",
            "6/6 [==============================] - 0s 8ms/step - loss: 4.7568 - accuracy: 0.6278\n",
            "Real Future Test accuracy: 0.6277777552604675\n",
            "6/6 [==============================] - 0s 5ms/step\n",
            "Fold:2, Train set: 912, Test set:228\n",
            "8/8 [==============================] - 0s 5ms/step - loss: 2.5196 - accuracy: 0.6842\n",
            "Test accuracy in training data: 0.6842105388641357\n",
            "6/6 [==============================] - 0s 6ms/step - loss: 3.0585 - accuracy: 0.5278\n",
            "Real Future Test accuracy: 0.5277777910232544\n",
            "Fold:3, Train set: 912, Test set:228\n",
            "8/8 [==============================] - 0s 4ms/step - loss: 2.2913 - accuracy: 0.7544\n",
            "Test accuracy in training data: 0.7543859481811523\n",
            "6/6 [==============================] - 0s 4ms/step - loss: 4.9285 - accuracy: 0.5500\n",
            "Real Future Test accuracy: 0.550000011920929\n",
            "Fold:4, Train set: 912, Test set:228\n",
            "8/8 [==============================] - 0s 5ms/step - loss: 3.2143 - accuracy: 0.7193\n",
            "Test accuracy in training data: 0.719298243522644\n",
            "6/6 [==============================] - 0s 7ms/step - loss: 5.9298 - accuracy: 0.4667\n",
            "Real Future Test accuracy: 0.46666666865348816\n",
            "Fold:5, Train set: 912, Test set:228\n",
            "8/8 [==============================] - 0s 4ms/step - loss: 2.3634 - accuracy: 0.7368\n",
            "Test accuracy in training data: 0.7368420958518982\n",
            "6/6 [==============================] - 0s 4ms/step - loss: 6.3091 - accuracy: 0.5444\n",
            "Real Future Test accuracy: 0.5444444417953491\n",
            "Test accuracy in training data: [0.6929824352264404, 0.6842105388641357, 0.7543859481811523, 0.719298243522644, 0.7368420958518982]\n",
            "Test accuracy in test data: [0.6277777552604675, 0.5277777910232544, 0.550000011920929, 0.46666666865348816, 0.5444444417953491]\n"
          ]
        }
      ]
    },
    {
      "cell_type": "code",
      "source": [
        "# Lets split the data into 5 folds.  \n",
        "# We will use this 'kf'(KFold splitting stratergy) object as input to cross_val_score() method\n",
        "kf =KFold(n_splits=5, shuffle=True, random_state=42)\n",
        "\n",
        "cnt = 1\n",
        "best_test_acc = 0\n",
        "best_model = Sequential()\n",
        "total_train_acc = []\n",
        "total_test_acc = []\n",
        "# split()  method generate indices to split data into training and test set.\n",
        "for train_index, test_index in kf.split(X, y):\n",
        "  print(f'Fold:{cnt}, Train set: {len(train_index)}, Test set:{len(test_index)}')\n",
        "  X_train, X_test = X[train_index], X[test_index]\n",
        "  y_train, y_test = y[train_index], y[test_index]    \n",
        "  cnt += 1\n",
        "  model = get_model_simple()\n",
        "  # Train the model on the training data\n",
        "  history = model.fit(X_train, y_train, epochs=50, batch_size=32, validation_split=0.2, verbose=0)\n",
        "  test_loss, test_acc = model.evaluate(X_test, y_test)\n",
        "  print('Test accuracy in training data:', test_acc)\n",
        "  total_train_acc.append(test_acc)\n",
        "  test_loss, test_acc2 = model.evaluate(X2, y2)\n",
        "  print('Real Future Test accuracy:', test_acc2)\n",
        "  total_test_acc.append(test_acc2)\n",
        "  # if best_test_acc < test_acc:\n",
        "  #   best_test_acc = test_acc\n",
        "  #   best_model = model    \n",
        "  #   network_test_pred = best_model.predict(X2)\n",
        "  #   file_name = \"network_fold_\" + str(cnt-1)\n",
        "  #   network_test_pred.to_csv(file_name, sep=',')\n",
        "print('Test accuracy in training data:', total_train_acc)\n",
        "print('Test accuracy in test data:', total_test_acc)\n"
      ],
      "metadata": {
        "id": "gXCCRdIY33Tm",
        "outputId": "87f57718-7576-4845-8c8f-fdc073e7ade6",
        "colab": {
          "base_uri": "https://localhost:8080/"
        }
      },
      "execution_count": 32,
      "outputs": [
        {
          "output_type": "stream",
          "name": "stdout",
          "text": [
            "Fold:1, Train set: 912, Test set:228\n",
            "8/8 [==============================] - 0s 3ms/step - loss: 2.4673 - accuracy: 0.7368\n",
            "Test accuracy in training data: 0.7368420958518982\n",
            "6/6 [==============================] - 0s 4ms/step - loss: 3.7264 - accuracy: 0.5944\n",
            "Real Future Test accuracy: 0.5944444537162781\n",
            "Fold:2, Train set: 912, Test set:228\n",
            "8/8 [==============================] - 0s 3ms/step - loss: 2.3213 - accuracy: 0.7412\n",
            "Test accuracy in training data: 0.7412280440330505\n",
            "6/6 [==============================] - 0s 4ms/step - loss: 4.0919 - accuracy: 0.5500\n",
            "Real Future Test accuracy: 0.550000011920929\n",
            "Fold:3, Train set: 912, Test set:228\n",
            "8/8 [==============================] - 0s 3ms/step - loss: 2.2153 - accuracy: 0.7281\n",
            "Test accuracy in training data: 0.7280701994895935\n",
            "6/6 [==============================] - 0s 3ms/step - loss: 4.4753 - accuracy: 0.5556\n",
            "Real Future Test accuracy: 0.5555555820465088\n",
            "Fold:4, Train set: 912, Test set:228\n",
            "8/8 [==============================] - 0s 5ms/step - loss: 1.9396 - accuracy: 0.7105\n",
            "Test accuracy in training data: 0.7105262875556946\n",
            "6/6 [==============================] - 0s 5ms/step - loss: 3.5215 - accuracy: 0.6167\n",
            "Real Future Test accuracy: 0.6166666746139526\n",
            "Fold:5, Train set: 912, Test set:228\n",
            "8/8 [==============================] - 0s 3ms/step - loss: 2.2081 - accuracy: 0.7456\n",
            "Test accuracy in training data: 0.7456140518188477\n",
            "6/6 [==============================] - 0s 3ms/step - loss: 4.9780 - accuracy: 0.5722\n",
            "Real Future Test accuracy: 0.5722222328186035\n",
            "Test accuracy in training data: [0.7368420958518982, 0.7412280440330505, 0.7280701994895935, 0.7105262875556946, 0.7456140518188477]\n",
            "Test accuracy in test data: [0.5944444537162781, 0.550000011920929, 0.5555555820465088, 0.6166666746139526, 0.5722222328186035]\n"
          ]
        }
      ]
    },
    {
      "cell_type": "code",
      "source": [],
      "metadata": {
        "id": "_jVy0zqK3IMU"
      },
      "execution_count": null,
      "outputs": []
    },
    {
      "cell_type": "code",
      "source": [
        "cv = KFold(n_splits=5, shuffle=True, random_state=1)\n",
        "model = XGBClassifier(n_estimators=100)\n",
        "scores = cross_val_score(model, X, y, scoring='accuracy', cv=cv, n_jobs=-1)\n",
        "# return scores\n",
        "k_mean, k_min, k_max = mean(scores), scores.min(), scores.max()\n",
        "print('traing with cross validation accuracy=%.3f (%.3f,%.3f)' % (k_mean, k_min, k_max))\n",
        "model.fit(X, y)\n",
        "prediction_start = time.perf_counter()\n",
        "preds = model.predict(X2)\n",
        "prediction_end = time.perf_counter()\n",
        "acc_xgb = (preds == y2).sum().astype(float) / len(preds)*100\n",
        "xgb_prediction_time = prediction_end-prediction_start\n",
        "print(\"XGBoost's prediction accuracy is: %3.2f\" % (acc_xgb))"
      ],
      "metadata": {
        "id": "-TMV1Xft2-EO"
      },
      "execution_count": null,
      "outputs": []
    },
    {
      "cell_type": "code",
      "source": [
        "model = Sequential()\n",
        "\n",
        "# Add input layer with 119 neurons\n",
        "model.add(Dense(119, input_dim=119, activation='relu'))\n",
        "\n",
        "# Add a hidden layer with 32 neurons\n",
        "model.add(Dense(521, activation='relu'))\n",
        "\n",
        "# Add a hidden layer with 32 neurons\n",
        "model.add(Dense(256, activation='relu'))\n",
        "\n",
        "# Add a hidden layer with 32 neurons\n",
        "model.add(Dense(64, activation='relu'))\n",
        "\n",
        "# Add a hidden layer with 32 neurons\n",
        "model.add(Dense(32, activation='relu'))\n",
        "\n",
        "# Add a hidden layer with 16 neurons\n",
        "model.add(Dense(16, activation='relu'))\n",
        "\n",
        "# Add a hidden layer with 16 neurons\n",
        "model.add(Dense(8, activation='relu'))\n",
        "\n",
        "# Add a hidden layer with 16 neurons\n",
        "#model.add(Dense(4, activation='relu'))\n",
        "\n",
        "# Add output layer with 1 neuron and sigmoid activation for binary classification\n",
        "model.add(Dense(1, activation='sigmoid'))\n",
        "\n",
        "# Compile the model with binary cross-entropy loss function and Adam optimizer\n",
        "model.compile(loss='binary_crossentropy', optimizer='adam', metrics=['accuracy'])\n",
        "\n",
        "# Train the model on the training data\n",
        "history = model.fit(X_train, y_train, epochs=50, batch_size=32, validation_split=0.2)\n",
        "\n",
        "test_loss, test_acc = model.evaluate(X_test, y_test)\n",
        "print('Test accuracy in training data:', test_acc)\n",
        "\n",
        "test_loss, test_acc = model.evaluate(X2, y2)\n",
        "print('Real Future Test accuracy:', test_acc)\n",
        "\n"
      ],
      "metadata": {
        "colab": {
          "base_uri": "https://localhost:8080/"
        },
        "id": "CqrhXMlOULUE",
        "outputId": "5e63c331-79c4-429e-fd49-c1a264f72f8f"
      },
      "execution_count": null,
      "outputs": [
        {
          "output_type": "stream",
          "name": "stdout",
          "text": [
            "Epoch 1/50\n",
            "23/23 [==============================] - 3s 33ms/step - loss: 0.6670 - accuracy: 0.6077 - val_loss: 0.6350 - val_accuracy: 0.6776\n",
            "Epoch 2/50\n",
            "23/23 [==============================] - 0s 18ms/step - loss: 0.5422 - accuracy: 0.7366 - val_loss: 0.6274 - val_accuracy: 0.6448\n",
            "Epoch 3/50\n",
            "23/23 [==============================] - 0s 18ms/step - loss: 0.4587 - accuracy: 0.7764 - val_loss: 0.5907 - val_accuracy: 0.6721\n",
            "Epoch 4/50\n",
            "23/23 [==============================] - 0s 21ms/step - loss: 0.3837 - accuracy: 0.8313 - val_loss: 0.6780 - val_accuracy: 0.6721\n",
            "Epoch 5/50\n",
            "23/23 [==============================] - 0s 20ms/step - loss: 0.3405 - accuracy: 0.8587 - val_loss: 0.7440 - val_accuracy: 0.7213\n",
            "Epoch 6/50\n",
            "23/23 [==============================] - 0s 15ms/step - loss: 0.2706 - accuracy: 0.8930 - val_loss: 0.8302 - val_accuracy: 0.6885\n",
            "Epoch 7/50\n",
            "23/23 [==============================] - 0s 15ms/step - loss: 0.1808 - accuracy: 0.9314 - val_loss: 1.0074 - val_accuracy: 0.6667\n",
            "Epoch 8/50\n",
            "23/23 [==============================] - 0s 16ms/step - loss: 0.1084 - accuracy: 0.9588 - val_loss: 1.5952 - val_accuracy: 0.6339\n",
            "Epoch 9/50\n",
            "23/23 [==============================] - 0s 16ms/step - loss: 0.2512 - accuracy: 0.9012 - val_loss: 1.0586 - val_accuracy: 0.6776\n",
            "Epoch 10/50\n",
            "23/23 [==============================] - 0s 13ms/step - loss: 0.2290 - accuracy: 0.9040 - val_loss: 0.8769 - val_accuracy: 0.6612\n",
            "Epoch 11/50\n",
            "23/23 [==============================] - 0s 11ms/step - loss: 0.0931 - accuracy: 0.9712 - val_loss: 1.3986 - val_accuracy: 0.6667\n",
            "Epoch 12/50\n",
            "23/23 [==============================] - 0s 11ms/step - loss: 0.0662 - accuracy: 0.9739 - val_loss: 1.5911 - val_accuracy: 0.6667\n",
            "Epoch 13/50\n",
            "23/23 [==============================] - 0s 13ms/step - loss: 0.0509 - accuracy: 0.9835 - val_loss: 1.6195 - val_accuracy: 0.6776\n",
            "Epoch 14/50\n",
            "23/23 [==============================] - 0s 13ms/step - loss: 0.0405 - accuracy: 0.9890 - val_loss: 1.7388 - val_accuracy: 0.6612\n",
            "Epoch 15/50\n",
            "23/23 [==============================] - 0s 15ms/step - loss: 0.0434 - accuracy: 0.9877 - val_loss: 1.7358 - val_accuracy: 0.6776\n",
            "Epoch 16/50\n",
            "23/23 [==============================] - 0s 13ms/step - loss: 0.0301 - accuracy: 0.9918 - val_loss: 2.0868 - val_accuracy: 0.6503\n",
            "Epoch 17/50\n",
            "23/23 [==============================] - 0s 12ms/step - loss: 0.0449 - accuracy: 0.9849 - val_loss: 1.7893 - val_accuracy: 0.6612\n",
            "Epoch 18/50\n",
            "23/23 [==============================] - 0s 11ms/step - loss: 0.0339 - accuracy: 0.9904 - val_loss: 1.8993 - val_accuracy: 0.6667\n",
            "Epoch 19/50\n",
            "23/23 [==============================] - 0s 12ms/step - loss: 0.0275 - accuracy: 0.9890 - val_loss: 1.9294 - val_accuracy: 0.6612\n",
            "Epoch 20/50\n",
            "23/23 [==============================] - 0s 14ms/step - loss: 0.0544 - accuracy: 0.9781 - val_loss: 1.8792 - val_accuracy: 0.6721\n",
            "Epoch 21/50\n",
            "23/23 [==============================] - 0s 14ms/step - loss: 0.0695 - accuracy: 0.9739 - val_loss: 1.5295 - val_accuracy: 0.6667\n",
            "Epoch 22/50\n",
            "23/23 [==============================] - 0s 10ms/step - loss: 0.0303 - accuracy: 0.9904 - val_loss: 1.8431 - val_accuracy: 0.6721\n",
            "Epoch 23/50\n",
            "23/23 [==============================] - 0s 12ms/step - loss: 0.0239 - accuracy: 0.9918 - val_loss: 2.1472 - val_accuracy: 0.6612\n",
            "Epoch 24/50\n",
            "23/23 [==============================] - 0s 11ms/step - loss: 0.0271 - accuracy: 0.9918 - val_loss: 2.1237 - val_accuracy: 0.6776\n",
            "Epoch 25/50\n",
            "23/23 [==============================] - 0s 9ms/step - loss: 0.0228 - accuracy: 0.9918 - val_loss: 2.2918 - val_accuracy: 0.6721\n",
            "Epoch 26/50\n",
            "23/23 [==============================] - 0s 11ms/step - loss: 0.0226 - accuracy: 0.9904 - val_loss: 2.4365 - val_accuracy: 0.6557\n",
            "Epoch 27/50\n",
            "23/23 [==============================] - 0s 12ms/step - loss: 0.0194 - accuracy: 0.9918 - val_loss: 2.3799 - val_accuracy: 0.6612\n",
            "Epoch 28/50\n",
            "23/23 [==============================] - 0s 18ms/step - loss: 0.0132 - accuracy: 0.9945 - val_loss: 2.3866 - val_accuracy: 0.6557\n",
            "Epoch 29/50\n",
            "23/23 [==============================] - 0s 20ms/step - loss: 0.0104 - accuracy: 0.9959 - val_loss: 2.5720 - val_accuracy: 0.6557\n",
            "Epoch 30/50\n",
            "23/23 [==============================] - 0s 18ms/step - loss: 0.0096 - accuracy: 0.9945 - val_loss: 2.7540 - val_accuracy: 0.6612\n",
            "Epoch 31/50\n",
            "23/23 [==============================] - 0s 18ms/step - loss: 0.0105 - accuracy: 0.9931 - val_loss: 2.8642 - val_accuracy: 0.6667\n",
            "Epoch 32/50\n",
            "23/23 [==============================] - 0s 18ms/step - loss: 0.0105 - accuracy: 0.9959 - val_loss: 2.6951 - val_accuracy: 0.6667\n",
            "Epoch 33/50\n",
            "23/23 [==============================] - 0s 15ms/step - loss: 0.0084 - accuracy: 0.9945 - val_loss: 3.0348 - val_accuracy: 0.6721\n",
            "Epoch 34/50\n",
            "23/23 [==============================] - 0s 20ms/step - loss: 0.0087 - accuracy: 0.9945 - val_loss: 3.1335 - val_accuracy: 0.6721\n",
            "Epoch 35/50\n",
            "23/23 [==============================] - 0s 18ms/step - loss: 0.0079 - accuracy: 0.9959 - val_loss: 3.2329 - val_accuracy: 0.6721\n",
            "Epoch 36/50\n",
            "23/23 [==============================] - 0s 21ms/step - loss: 0.0159 - accuracy: 0.9918 - val_loss: 2.9041 - val_accuracy: 0.6721\n",
            "Epoch 37/50\n",
            "23/23 [==============================] - 0s 17ms/step - loss: 0.0131 - accuracy: 0.9931 - val_loss: 2.8935 - val_accuracy: 0.6667\n",
            "Epoch 38/50\n",
            "23/23 [==============================] - 0s 11ms/step - loss: 0.0103 - accuracy: 0.9945 - val_loss: 2.8557 - val_accuracy: 0.6667\n",
            "Epoch 39/50\n",
            "23/23 [==============================] - 0s 12ms/step - loss: 0.0088 - accuracy: 0.9931 - val_loss: 3.0324 - val_accuracy: 0.6612\n",
            "Epoch 40/50\n",
            "23/23 [==============================] - 0s 13ms/step - loss: 0.0076 - accuracy: 0.9959 - val_loss: 3.0626 - val_accuracy: 0.6667\n",
            "Epoch 41/50\n",
            "23/23 [==============================] - 0s 12ms/step - loss: 0.0077 - accuracy: 0.9959 - val_loss: 3.1406 - val_accuracy: 0.6667\n",
            "Epoch 42/50\n",
            "23/23 [==============================] - 0s 13ms/step - loss: 0.0086 - accuracy: 0.9959 - val_loss: 3.2366 - val_accuracy: 0.6721\n",
            "Epoch 43/50\n",
            "23/23 [==============================] - 0s 12ms/step - loss: 0.0086 - accuracy: 0.9931 - val_loss: 3.2340 - val_accuracy: 0.6667\n",
            "Epoch 44/50\n",
            "23/23 [==============================] - 0s 11ms/step - loss: 0.0069 - accuracy: 0.9973 - val_loss: 3.2284 - val_accuracy: 0.6667\n",
            "Epoch 45/50\n",
            "23/23 [==============================] - 0s 11ms/step - loss: 0.0079 - accuracy: 0.9959 - val_loss: 3.2009 - val_accuracy: 0.6557\n",
            "Epoch 46/50\n",
            "23/23 [==============================] - 0s 12ms/step - loss: 0.0076 - accuracy: 0.9945 - val_loss: 3.3204 - val_accuracy: 0.6721\n",
            "Epoch 47/50\n",
            "23/23 [==============================] - 0s 14ms/step - loss: 0.0069 - accuracy: 0.9959 - val_loss: 3.4701 - val_accuracy: 0.6612\n",
            "Epoch 48/50\n",
            "23/23 [==============================] - 0s 12ms/step - loss: 0.0072 - accuracy: 0.9959 - val_loss: 3.5127 - val_accuracy: 0.6612\n",
            "Epoch 49/50\n",
            "23/23 [==============================] - 0s 13ms/step - loss: 0.0065 - accuracy: 0.9959 - val_loss: 3.4648 - val_accuracy: 0.6721\n",
            "Epoch 50/50\n",
            "23/23 [==============================] - 0s 12ms/step - loss: 0.0071 - accuracy: 0.9959 - val_loss: 3.4981 - val_accuracy: 0.6721\n",
            "8/8 [==============================] - 0s 3ms/step - loss: 2.0891 - accuracy: 0.7851\n",
            "Test accuracy in training data: 0.7850877046585083\n",
            "6/6 [==============================] - 0s 4ms/step - loss: 3.1609 - accuracy: 0.6000\n",
            "Real Future Test accuracy: 0.6000000238418579\n"
          ]
        }
      ]
    },
    {
      "cell_type": "code",
      "source": [
        "model = Sequential()\n",
        "\n",
        "# Add input layer with 119 neurons\n",
        "model.add(Dense(119, input_dim=119, activation='relu'))\n",
        "\n",
        "# Add a hidden layer with 32 neurons\n",
        "model.add(Dense(521, activation='relu'))\n",
        "\n",
        "# Add a hidden layer with 32 neurons\n",
        "model.add(Dense(256, activation='relu'))\n",
        "\n",
        "# Add a hidden layer with 32 neurons\n",
        "model.add(Dense(64, activation='relu'))\n",
        "\n",
        "# Add a hidden layer with 32 neurons\n",
        "model.add(Dense(32, activation='relu'))\n",
        "\n",
        "# Add a hidden layer with 16 neurons\n",
        "model.add(Dense(16, activation='relu'))\n",
        "\n",
        "# Add a hidden layer with 16 neurons\n",
        "model.add(Dense(8, activation='relu'))\n",
        "\n",
        "# Add a hidden layer with 16 neurons\n",
        "#model.add(Dense(4, activation='relu'))\n",
        "\n",
        "# Add output layer with 1 neuron and sigmoid activation for binary classification\n",
        "model.add(Dense(1, activation='sigmoid'))\n",
        "\n",
        "# Compile the model with binary cross-entropy loss function and Adam optimizer\n",
        "model.compile(loss='binary_crossentropy', optimizer='adam', metrics=['accuracy'])\n",
        "\n",
        "# Train the model on the training data\n",
        "history = model.fit(X_train, y_train, epochs=50, batch_size=32, validation_split=0.2)\n",
        "\n",
        "test_loss, test_acc = model.evaluate(X_test, y_test)\n",
        "print('Test accuracy in training data:', test_acc)\n",
        "\n",
        "test_loss, test_acc = model.evaluate(X2, y2)\n",
        "print('Real Future Test accuracy:', test_acc)\n"
      ],
      "metadata": {
        "id": "tqgQ6wvsbvaB",
        "outputId": "59df5da0-eeca-4bbf-d63f-09ce5ce23975",
        "colab": {
          "base_uri": "https://localhost:8080/"
        }
      },
      "execution_count": null,
      "outputs": [
        {
          "output_type": "stream",
          "name": "stdout",
          "text": [
            "Epoch 1/50\n",
            "23/23 [==============================] - 5s 26ms/step - loss: 0.6863 - accuracy: 0.5171 - val_loss: 0.6648 - val_accuracy: 0.7322\n",
            "Epoch 2/50\n",
            "23/23 [==============================] - 0s 12ms/step - loss: 0.6517 - accuracy: 0.6324 - val_loss: 0.6277 - val_accuracy: 0.7322\n",
            "Epoch 3/50\n",
            "23/23 [==============================] - 0s 14ms/step - loss: 0.6013 - accuracy: 0.7147 - val_loss: 0.5340 - val_accuracy: 0.8087\n",
            "Epoch 4/50\n",
            "23/23 [==============================] - 0s 16ms/step - loss: 0.5725 - accuracy: 0.7517 - val_loss: 0.5301 - val_accuracy: 0.7923\n",
            "Epoch 5/50\n",
            "23/23 [==============================] - 0s 15ms/step - loss: 0.5395 - accuracy: 0.7764 - val_loss: 0.5053 - val_accuracy: 0.8251\n",
            "Epoch 6/50\n",
            "23/23 [==============================] - 0s 11ms/step - loss: 0.5139 - accuracy: 0.7997 - val_loss: 0.5349 - val_accuracy: 0.7705\n",
            "Epoch 7/50\n",
            "23/23 [==============================] - 0s 11ms/step - loss: 0.4826 - accuracy: 0.8217 - val_loss: 0.5395 - val_accuracy: 0.7923\n",
            "Epoch 8/50\n",
            "23/23 [==============================] - 0s 11ms/step - loss: 0.4654 - accuracy: 0.8189 - val_loss: 0.5762 - val_accuracy: 0.8087\n",
            "Epoch 9/50\n",
            "23/23 [==============================] - 0s 12ms/step - loss: 0.4567 - accuracy: 0.8217 - val_loss: 0.5374 - val_accuracy: 0.8087\n",
            "Epoch 10/50\n",
            "23/23 [==============================] - 0s 16ms/step - loss: 0.4441 - accuracy: 0.8381 - val_loss: 0.6144 - val_accuracy: 0.8033\n",
            "Epoch 11/50\n",
            "23/23 [==============================] - 0s 17ms/step - loss: 0.4096 - accuracy: 0.8601 - val_loss: 0.6048 - val_accuracy: 0.8142\n",
            "Epoch 12/50\n",
            "23/23 [==============================] - 0s 14ms/step - loss: 0.4003 - accuracy: 0.8697 - val_loss: 0.6062 - val_accuracy: 0.8251\n",
            "Epoch 13/50\n",
            "23/23 [==============================] - 0s 14ms/step - loss: 0.3904 - accuracy: 0.8724 - val_loss: 0.6408 - val_accuracy: 0.8306\n",
            "Epoch 14/50\n",
            "23/23 [==============================] - 0s 13ms/step - loss: 0.3879 - accuracy: 0.8738 - val_loss: 0.6147 - val_accuracy: 0.7978\n",
            "Epoch 15/50\n",
            "23/23 [==============================] - 0s 14ms/step - loss: 0.3944 - accuracy: 0.8697 - val_loss: 0.6674 - val_accuracy: 0.8306\n",
            "Epoch 16/50\n",
            "23/23 [==============================] - 0s 10ms/step - loss: 0.3982 - accuracy: 0.8669 - val_loss: 0.7861 - val_accuracy: 0.8251\n",
            "Epoch 17/50\n",
            "23/23 [==============================] - 0s 10ms/step - loss: 0.3870 - accuracy: 0.8683 - val_loss: 0.6362 - val_accuracy: 0.8033\n",
            "Epoch 18/50\n",
            "23/23 [==============================] - 0s 10ms/step - loss: 0.3692 - accuracy: 0.8793 - val_loss: 0.6597 - val_accuracy: 0.8251\n",
            "Epoch 19/50\n",
            "23/23 [==============================] - 0s 11ms/step - loss: 0.3586 - accuracy: 0.8875 - val_loss: 0.7897 - val_accuracy: 0.8142\n",
            "Epoch 20/50\n",
            "23/23 [==============================] - 0s 10ms/step - loss: 0.3607 - accuracy: 0.8820 - val_loss: 0.7508 - val_accuracy: 0.8087\n",
            "Epoch 21/50\n",
            "23/23 [==============================] - 0s 11ms/step - loss: 0.3520 - accuracy: 0.8834 - val_loss: 0.7617 - val_accuracy: 0.8142\n",
            "Epoch 22/50\n",
            "23/23 [==============================] - 0s 10ms/step - loss: 0.3614 - accuracy: 0.8834 - val_loss: 0.7139 - val_accuracy: 0.7814\n",
            "Epoch 23/50\n",
            "23/23 [==============================] - 0s 11ms/step - loss: 0.3512 - accuracy: 0.8834 - val_loss: 0.6755 - val_accuracy: 0.8087\n",
            "Epoch 24/50\n",
            "23/23 [==============================] - 0s 10ms/step - loss: 0.3512 - accuracy: 0.8848 - val_loss: 0.7471 - val_accuracy: 0.7814\n",
            "Epoch 25/50\n",
            "23/23 [==============================] - 0s 11ms/step - loss: 0.3447 - accuracy: 0.8820 - val_loss: 0.8423 - val_accuracy: 0.7869\n",
            "Epoch 26/50\n",
            "23/23 [==============================] - 0s 10ms/step - loss: 0.3453 - accuracy: 0.8834 - val_loss: 0.9015 - val_accuracy: 0.8251\n",
            "Epoch 27/50\n",
            "23/23 [==============================] - 0s 11ms/step - loss: 0.3564 - accuracy: 0.8875 - val_loss: 0.6837 - val_accuracy: 0.8142\n",
            "Epoch 28/50\n",
            "23/23 [==============================] - 0s 10ms/step - loss: 0.3462 - accuracy: 0.8779 - val_loss: 0.7581 - val_accuracy: 0.8142\n",
            "Epoch 29/50\n",
            "23/23 [==============================] - 0s 9ms/step - loss: 0.3357 - accuracy: 0.8861 - val_loss: 0.7860 - val_accuracy: 0.8197\n",
            "Epoch 30/50\n",
            "23/23 [==============================] - 0s 9ms/step - loss: 0.3310 - accuracy: 0.8875 - val_loss: 0.7925 - val_accuracy: 0.8142\n",
            "Epoch 31/50\n",
            "23/23 [==============================] - 0s 10ms/step - loss: 0.3372 - accuracy: 0.8903 - val_loss: 0.7014 - val_accuracy: 0.8142\n",
            "Epoch 32/50\n",
            "23/23 [==============================] - 0s 11ms/step - loss: 0.3305 - accuracy: 0.8861 - val_loss: 0.7220 - val_accuracy: 0.7869\n",
            "Epoch 33/50\n",
            "23/23 [==============================] - 0s 10ms/step - loss: 0.3293 - accuracy: 0.8875 - val_loss: 1.0046 - val_accuracy: 0.8306\n",
            "Epoch 34/50\n",
            "23/23 [==============================] - 0s 11ms/step - loss: 0.3155 - accuracy: 0.8971 - val_loss: 0.7048 - val_accuracy: 0.8033\n",
            "Epoch 35/50\n",
            "23/23 [==============================] - 0s 13ms/step - loss: 0.3119 - accuracy: 0.8985 - val_loss: 0.7084 - val_accuracy: 0.8251\n",
            "Epoch 36/50\n",
            "23/23 [==============================] - 0s 17ms/step - loss: 0.3104 - accuracy: 0.9026 - val_loss: 0.7542 - val_accuracy: 0.8306\n",
            "Epoch 37/50\n",
            "23/23 [==============================] - 0s 15ms/step - loss: 0.3150 - accuracy: 0.8930 - val_loss: 0.8374 - val_accuracy: 0.8251\n",
            "Epoch 38/50\n",
            "23/23 [==============================] - 0s 18ms/step - loss: 0.3091 - accuracy: 0.8971 - val_loss: 0.6880 - val_accuracy: 0.8197\n",
            "Epoch 39/50\n",
            "23/23 [==============================] - 0s 15ms/step - loss: 0.3258 - accuracy: 0.8971 - val_loss: 0.6433 - val_accuracy: 0.8197\n",
            "Epoch 40/50\n",
            "23/23 [==============================] - 0s 15ms/step - loss: 0.3236 - accuracy: 0.8875 - val_loss: 0.7417 - val_accuracy: 0.8251\n",
            "Epoch 41/50\n",
            "23/23 [==============================] - 0s 17ms/step - loss: 0.3138 - accuracy: 0.8875 - val_loss: 0.6726 - val_accuracy: 0.7814\n",
            "Epoch 42/50\n",
            "23/23 [==============================] - 0s 15ms/step - loss: 0.3052 - accuracy: 0.8971 - val_loss: 0.8064 - val_accuracy: 0.8033\n",
            "Epoch 43/50\n",
            "23/23 [==============================] - 0s 10ms/step - loss: 0.3045 - accuracy: 0.8916 - val_loss: 0.8626 - val_accuracy: 0.8142\n",
            "Epoch 44/50\n",
            "23/23 [==============================] - 0s 11ms/step - loss: 0.3012 - accuracy: 0.8971 - val_loss: 0.8001 - val_accuracy: 0.8197\n",
            "Epoch 45/50\n",
            "23/23 [==============================] - 0s 12ms/step - loss: 0.2994 - accuracy: 0.8971 - val_loss: 0.8877 - val_accuracy: 0.8142\n",
            "Epoch 46/50\n",
            "23/23 [==============================] - 0s 10ms/step - loss: 0.2962 - accuracy: 0.8985 - val_loss: 0.8747 - val_accuracy: 0.8087\n",
            "Epoch 47/50\n",
            "23/23 [==============================] - 0s 10ms/step - loss: 0.2911 - accuracy: 0.9026 - val_loss: 0.8344 - val_accuracy: 0.7978\n",
            "Epoch 48/50\n",
            "23/23 [==============================] - 0s 10ms/step - loss: 0.2915 - accuracy: 0.9012 - val_loss: 1.1069 - val_accuracy: 0.8306\n",
            "Epoch 49/50\n",
            "23/23 [==============================] - 0s 11ms/step - loss: 0.3151 - accuracy: 0.8930 - val_loss: 0.7883 - val_accuracy: 0.8142\n",
            "Epoch 50/50\n",
            "23/23 [==============================] - 0s 10ms/step - loss: 0.2935 - accuracy: 0.8985 - val_loss: 0.7848 - val_accuracy: 0.8142\n",
            "8/8 [==============================] - 0s 3ms/step - loss: 0.8493 - accuracy: 0.7325\n",
            "Test accuracy in training data: 0.7324561476707458\n",
            "6/6 [==============================] - 0s 4ms/step - loss: 1.7470 - accuracy: 0.5889\n",
            "Real Future Test accuracy: 0.5888888835906982\n"
          ]
        }
      ]
    },
    {
      "cell_type": "code",
      "source": [
        "from tensorflow.keras.layers import Dense, Conv2D, Flatten"
      ],
      "metadata": {
        "id": "c-LEzx72VIbk"
      },
      "execution_count": null,
      "outputs": []
    },
    {
      "cell_type": "code",
      "source": [
        "import numpy as np"
      ],
      "metadata": {
        "id": "-rJ_4kElXkzF"
      },
      "execution_count": null,
      "outputs": []
    },
    {
      "cell_type": "code",
      "source": [
        "Xtrain = X_train\n",
        "Xtest = X_test"
      ],
      "metadata": {
        "id": "5poqQ2TeX3nF"
      },
      "execution_count": null,
      "outputs": []
    },
    {
      "cell_type": "code",
      "source": [
        "X_train = Xtrain\n",
        "X_test = Xtest"
      ],
      "metadata": {
        "id": "JgmewlxUaUR0"
      },
      "execution_count": null,
      "outputs": []
    },
    {
      "cell_type": "code",
      "source": [
        "num_samples, num_features = X_train.shape"
      ],
      "metadata": {
        "id": "RZUqoB6_Z2bW"
      },
      "execution_count": null,
      "outputs": []
    },
    {
      "cell_type": "code",
      "source": [],
      "metadata": {
        "id": "emsvgAqFaSn4"
      },
      "execution_count": null,
      "outputs": []
    },
    {
      "cell_type": "code",
      "source": [
        "X_train.shape"
      ],
      "metadata": {
        "colab": {
          "base_uri": "https://localhost:8080/"
        },
        "id": "KuUk7IidZ3-S",
        "outputId": "220b5566-e528-4ab1-c053-971dcd2e419f"
      },
      "execution_count": null,
      "outputs": [
        {
          "output_type": "execute_result",
          "data": {
            "text/plain": [
              "(883, 79)"
            ]
          },
          "metadata": {},
          "execution_count": 142
        }
      ]
    },
    {
      "cell_type": "code",
      "source": [
        "import numpy as np"
      ],
      "metadata": {
        "id": "3s8s-N7dbN28"
      },
      "execution_count": null,
      "outputs": []
    },
    {
      "cell_type": "code",
      "source": [
        "\n",
        "# Reshape X_train to have 4 dimensions (batch_size, height, width, channels)\n",
        "# X_train = X_train.reshape(X_train.shape[0], X_train.shape[1], 1, 1)\n",
        "X_train_cnn = X_train.reshape(X_train.shape[0], X_train.shape[1], 1, 1)\n",
        "X_test_cnn = X_test.reshape(X_test.shape[0], X_test.shape[1], 1, 1)\n",
        "X2_cnn = X2.reshape(X2.shape[0], X2.shape[1], 1, 1)\n",
        "\n",
        "# Parse numbers as floats\n",
        "X_train_cnn = X_train_cnn.astype('float32')\n",
        "X_test_cnn = X_test_cnn.astype('float32')\n",
        "X2_cnn = X2_cnn.astype('float32')\n",
        "\n",
        "model = Sequential()\n",
        "\n",
        "# Add convolutional layer with 32 filters, a kernel size of 3x3, and ReLU activation\n",
        "#model.add(Conv2D(32, kernel_size=(3, 3), activation='relu', input_shape=(X_train.shape[1], 1, 1)))\n",
        "\n",
        "model.add(Conv2D(32, (3, 3), activation='relu', input_shape=X_train_cnn.shape[1:], padding = 'same'))\n",
        "\n",
        "\n",
        "# Add a second convolutional layer with 64 filters and a kernel size of 3x3\n",
        "model.add(Conv2D(64, kernel_size=(3, 3), activation='relu', padding = 'same'))\n",
        "\n",
        "# Flatten the output of the convolutional layers\n",
        "model.add(Flatten())\n",
        "\n",
        "# Add a fully connected layer with 128 neurons and ReLU activation\n",
        "model.add(Dense(128, activation='relu'))\n",
        "\n",
        "# Add an output layer with 1 neuron and sigmoid activation for binary classification\n",
        "model.add(Dense(1, activation='sigmoid'))\n",
        "\n",
        "# Compile the model with binary cross-entropy loss function and Adam optimizer\n",
        "model.compile(loss='binary_crossentropy', optimizer='adam', metrics=['accuracy'])\n",
        "\n",
        "# Train the model on the training data\n",
        "history = model.fit(X_train_cnn, y_train, epochs=50, batch_size=32, validation_data=(X_test_cnn, y_test))\n",
        "\n",
        "test_loss, test_acc = model.evaluate(X_test_cnn, y_test)\n",
        "print('Test accuracy in training data:', test_acc)\n",
        "\n",
        "test_loss, test_acc = model.evaluate(X2_cnn, y2)\n",
        "print('Real Future Test accuracy:', test_acc)\n",
        "\n"
      ],
      "metadata": {
        "colab": {
          "base_uri": "https://localhost:8080/"
        },
        "id": "wWMRAnM4YYSU",
        "outputId": "58049d51-60cf-4bcc-beb8-980f0fff1a44"
      },
      "execution_count": null,
      "outputs": [
        {
          "output_type": "stream",
          "name": "stdout",
          "text": [
            "Epoch 1/50\n",
            "29/29 [==============================] - 2s 45ms/step - loss: 0.6457 - accuracy: 0.6250 - val_loss: 0.5503 - val_accuracy: 0.7368\n",
            "Epoch 2/50\n",
            "29/29 [==============================] - 1s 37ms/step - loss: 0.5573 - accuracy: 0.7215 - val_loss: 0.5145 - val_accuracy: 0.7632\n",
            "Epoch 3/50\n",
            "29/29 [==============================] - 1s 38ms/step - loss: 0.5038 - accuracy: 0.7511 - val_loss: 0.4982 - val_accuracy: 0.7500\n",
            "Epoch 4/50\n",
            "29/29 [==============================] - 1s 47ms/step - loss: 0.4848 - accuracy: 0.7599 - val_loss: 0.4919 - val_accuracy: 0.7544\n",
            "Epoch 5/50\n",
            "29/29 [==============================] - 2s 61ms/step - loss: 0.4674 - accuracy: 0.7796 - val_loss: 0.4872 - val_accuracy: 0.7368\n",
            "Epoch 6/50\n",
            "29/29 [==============================] - 2s 58ms/step - loss: 0.4419 - accuracy: 0.7763 - val_loss: 0.5013 - val_accuracy: 0.7456\n",
            "Epoch 7/50\n",
            "29/29 [==============================] - 1s 34ms/step - loss: 0.4294 - accuracy: 0.7950 - val_loss: 0.4834 - val_accuracy: 0.7368\n",
            "Epoch 8/50\n",
            "29/29 [==============================] - 1s 38ms/step - loss: 0.4115 - accuracy: 0.8136 - val_loss: 0.4903 - val_accuracy: 0.7325\n",
            "Epoch 9/50\n",
            "29/29 [==============================] - 1s 35ms/step - loss: 0.3869 - accuracy: 0.8191 - val_loss: 0.5203 - val_accuracy: 0.7281\n",
            "Epoch 10/50\n",
            "29/29 [==============================] - 1s 41ms/step - loss: 0.3669 - accuracy: 0.8246 - val_loss: 0.5003 - val_accuracy: 0.7588\n",
            "Epoch 11/50\n",
            "29/29 [==============================] - 1s 35ms/step - loss: 0.3338 - accuracy: 0.8542 - val_loss: 0.5157 - val_accuracy: 0.7588\n",
            "Epoch 12/50\n",
            "29/29 [==============================] - 1s 40ms/step - loss: 0.3138 - accuracy: 0.8607 - val_loss: 0.5607 - val_accuracy: 0.7281\n",
            "Epoch 13/50\n",
            "29/29 [==============================] - 1s 36ms/step - loss: 0.2938 - accuracy: 0.8783 - val_loss: 0.5259 - val_accuracy: 0.7588\n",
            "Epoch 14/50\n",
            "29/29 [==============================] - 1s 36ms/step - loss: 0.2532 - accuracy: 0.8958 - val_loss: 0.5882 - val_accuracy: 0.7368\n",
            "Epoch 15/50\n",
            "29/29 [==============================] - 1s 35ms/step - loss: 0.2518 - accuracy: 0.8958 - val_loss: 0.6179 - val_accuracy: 0.7544\n",
            "Epoch 16/50\n",
            "29/29 [==============================] - 1s 51ms/step - loss: 0.2241 - accuracy: 0.9134 - val_loss: 0.6497 - val_accuracy: 0.8026\n",
            "Epoch 17/50\n",
            "29/29 [==============================] - 2s 58ms/step - loss: 0.2046 - accuracy: 0.9178 - val_loss: 0.6598 - val_accuracy: 0.7588\n",
            "Epoch 18/50\n",
            "29/29 [==============================] - 2s 60ms/step - loss: 0.1639 - accuracy: 0.9331 - val_loss: 0.7251 - val_accuracy: 0.8158\n",
            "Epoch 19/50\n",
            "29/29 [==============================] - 1s 34ms/step - loss: 0.1543 - accuracy: 0.9375 - val_loss: 0.6591 - val_accuracy: 0.7895\n",
            "Epoch 20/50\n",
            "29/29 [==============================] - 1s 39ms/step - loss: 0.1199 - accuracy: 0.9561 - val_loss: 0.6897 - val_accuracy: 0.8026\n",
            "Epoch 21/50\n",
            "29/29 [==============================] - 1s 35ms/step - loss: 0.1195 - accuracy: 0.9616 - val_loss: 0.7879 - val_accuracy: 0.8246\n",
            "Epoch 22/50\n",
            "29/29 [==============================] - 1s 37ms/step - loss: 0.1267 - accuracy: 0.9561 - val_loss: 0.7592 - val_accuracy: 0.7456\n",
            "Epoch 23/50\n",
            "29/29 [==============================] - 1s 34ms/step - loss: 0.1177 - accuracy: 0.9572 - val_loss: 0.8616 - val_accuracy: 0.7763\n",
            "Epoch 24/50\n",
            "29/29 [==============================] - 1s 40ms/step - loss: 0.1262 - accuracy: 0.9529 - val_loss: 0.8067 - val_accuracy: 0.7763\n",
            "Epoch 25/50\n",
            "29/29 [==============================] - 1s 38ms/step - loss: 0.0866 - accuracy: 0.9660 - val_loss: 0.8221 - val_accuracy: 0.8026\n",
            "Epoch 26/50\n",
            "29/29 [==============================] - 1s 36ms/step - loss: 0.0854 - accuracy: 0.9605 - val_loss: 0.8992 - val_accuracy: 0.7675\n",
            "Epoch 27/50\n",
            "29/29 [==============================] - 1s 35ms/step - loss: 0.1011 - accuracy: 0.9660 - val_loss: 0.8437 - val_accuracy: 0.7895\n",
            "Epoch 28/50\n",
            "29/29 [==============================] - 1s 51ms/step - loss: 0.0797 - accuracy: 0.9693 - val_loss: 0.9313 - val_accuracy: 0.8070\n",
            "Epoch 29/50\n",
            "29/29 [==============================] - 2s 60ms/step - loss: 0.0746 - accuracy: 0.9781 - val_loss: 0.9170 - val_accuracy: 0.7939\n",
            "Epoch 30/50\n",
            "29/29 [==============================] - 2s 58ms/step - loss: 0.0873 - accuracy: 0.9693 - val_loss: 0.9165 - val_accuracy: 0.8026\n",
            "Epoch 31/50\n",
            "29/29 [==============================] - 1s 36ms/step - loss: 0.0779 - accuracy: 0.9682 - val_loss: 0.9489 - val_accuracy: 0.8070\n",
            "Epoch 32/50\n",
            "29/29 [==============================] - 1s 38ms/step - loss: 0.0605 - accuracy: 0.9759 - val_loss: 0.9920 - val_accuracy: 0.7763\n",
            "Epoch 33/50\n",
            "29/29 [==============================] - 1s 35ms/step - loss: 0.0417 - accuracy: 0.9868 - val_loss: 0.9957 - val_accuracy: 0.7895\n",
            "Epoch 34/50\n",
            "29/29 [==============================] - 1s 37ms/step - loss: 0.0469 - accuracy: 0.9836 - val_loss: 1.0645 - val_accuracy: 0.7675\n",
            "Epoch 35/50\n",
            "29/29 [==============================] - 1s 35ms/step - loss: 0.0544 - accuracy: 0.9836 - val_loss: 1.0012 - val_accuracy: 0.7851\n",
            "Epoch 36/50\n",
            "29/29 [==============================] - 1s 39ms/step - loss: 0.0479 - accuracy: 0.9803 - val_loss: 1.1131 - val_accuracy: 0.7982\n",
            "Epoch 37/50\n",
            "29/29 [==============================] - 1s 34ms/step - loss: 0.0501 - accuracy: 0.9846 - val_loss: 1.0737 - val_accuracy: 0.8070\n",
            "Epoch 38/50\n",
            "29/29 [==============================] - 1s 38ms/step - loss: 0.0710 - accuracy: 0.9770 - val_loss: 1.0751 - val_accuracy: 0.7719\n",
            "Epoch 39/50\n",
            "29/29 [==============================] - 1s 34ms/step - loss: 0.0614 - accuracy: 0.9836 - val_loss: 1.0132 - val_accuracy: 0.8070\n",
            "Epoch 40/50\n",
            "29/29 [==============================] - 1s 50ms/step - loss: 0.0388 - accuracy: 0.9868 - val_loss: 1.1358 - val_accuracy: 0.7982\n",
            "Epoch 41/50\n",
            "29/29 [==============================] - 2s 57ms/step - loss: 0.0429 - accuracy: 0.9912 - val_loss: 1.1072 - val_accuracy: 0.8070\n",
            "Epoch 42/50\n",
            "29/29 [==============================] - 2s 59ms/step - loss: 0.0354 - accuracy: 0.9879 - val_loss: 1.1591 - val_accuracy: 0.8026\n",
            "Epoch 43/50\n",
            "29/29 [==============================] - 1s 37ms/step - loss: 0.0333 - accuracy: 0.9890 - val_loss: 1.1753 - val_accuracy: 0.7939\n",
            "Epoch 44/50\n",
            "29/29 [==============================] - 1s 36ms/step - loss: 0.0450 - accuracy: 0.9846 - val_loss: 1.1918 - val_accuracy: 0.7939\n",
            "Epoch 45/50\n",
            "29/29 [==============================] - 1s 36ms/step - loss: 0.0294 - accuracy: 0.9912 - val_loss: 1.2183 - val_accuracy: 0.8026\n",
            "Epoch 46/50\n",
            "29/29 [==============================] - 1s 36ms/step - loss: 0.0428 - accuracy: 0.9857 - val_loss: 1.2780 - val_accuracy: 0.8114\n",
            "Epoch 47/50\n",
            "29/29 [==============================] - 1s 37ms/step - loss: 0.0361 - accuracy: 0.9890 - val_loss: 1.1168 - val_accuracy: 0.8026\n",
            "Epoch 48/50\n",
            "29/29 [==============================] - 1s 38ms/step - loss: 0.0297 - accuracy: 0.9923 - val_loss: 1.1582 - val_accuracy: 0.7675\n",
            "Epoch 49/50\n",
            "29/29 [==============================] - 1s 36ms/step - loss: 0.0317 - accuracy: 0.9868 - val_loss: 1.1741 - val_accuracy: 0.8158\n",
            "Epoch 50/50\n",
            "29/29 [==============================] - 1s 38ms/step - loss: 0.0262 - accuracy: 0.9912 - val_loss: 1.1978 - val_accuracy: 0.7895\n",
            "8/8 [==============================] - 0s 9ms/step - loss: 1.1978 - accuracy: 0.7895\n",
            "Test accuracy in training data: 0.7894737124443054\n",
            "6/6 [==============================] - 0s 8ms/step - loss: 2.5870 - accuracy: 0.5611\n",
            "Real Future Test accuracy: 0.5611110925674438\n"
          ]
        }
      ]
    },
    {
      "cell_type": "code",
      "source": [
        "\n",
        "# Reshape X_train to have 4 dimensions (batch_size, height, width, channels)\n",
        "# X_train = X_train.reshape(X_train.shape[0], X_train.shape[1], 1, 1)\n",
        "X_train_cnn = X_train.reshape(X_train.shape[0], X_train.shape[1], 1, 1)\n",
        "X_test_cnn = X_test.reshape(X_test.shape[0], X_test.shape[1], 1, 1)\n",
        "X2_cnn = X2.reshape(X2.shape[0], X2.shape[1], 1, 1)\n",
        "\n",
        "# # Parse numbers as floats\n",
        "# X_train_cnn = X_train_cnn.astype('float32')\n",
        "# X_test_cnn = X_test_cnn.astype('float32')\n",
        "# X2_cnn = X2_cnn.astype('float32')\n",
        "\n",
        "model = Sequential()\n",
        "\n",
        "# Add convolutional layer with 32 filters, a kernel size of 3x3, and ReLU activation\n",
        "#model.add(Conv2D(32, kernel_size=(3, 3), activation='relu', input_shape=(X_train.shape[1], 1, 1)))\n",
        "\n",
        "model.add(Conv2D(32, (3, 3), activation='relu', input_shape=X_train_cnn.shape[1:], padding = 'same'))\n",
        "\n",
        "\n",
        "# Add a second convolutional layer with 64 filters and a kernel size of 3x3\n",
        "model.add(Conv2D(64, kernel_size=(3, 3), activation='relu', padding = 'same'))\n",
        "\n",
        "# Flatten the output of the convolutional layers\n",
        "model.add(Flatten())\n",
        "\n",
        "# Add a fully connected layer with 128 neurons and ReLU activation\n",
        "model.add(Dense(128, activation='relu'))\n",
        "\n",
        "# Add an output layer with 1 neuron and sigmoid activation for binary classification\n",
        "model.add(Dense(1, activation='sigmoid'))\n",
        "\n",
        "# Compile the model with binary cross-entropy loss function and Adam optimizer\n",
        "model.compile(loss='binary_crossentropy', optimizer='adam', metrics=['accuracy'])\n",
        "\n",
        "# Train the model on the training data\n",
        "history = model.fit(X_train_cnn, y_train, epochs=50, batch_size=32, validation_split=0.2)\n",
        "\n",
        "test_loss, test_acc = model.evaluate(X_test_cnn, y_test)\n",
        "print('Test accuracy in training data:', test_acc)\n",
        "\n",
        "test_loss, test_acc = model.evaluate(X2_cnn, y2)\n",
        "print('Real Future Test accuracy:', test_acc)\n"
      ],
      "metadata": {
        "id": "wCo7dltJbQ9n",
        "outputId": "d836e8ce-de65-401e-eb21-d35ed234d801",
        "colab": {
          "base_uri": "https://localhost:8080/"
        }
      },
      "execution_count": null,
      "outputs": [
        {
          "output_type": "stream",
          "name": "stdout",
          "text": [
            "Epoch 1/50\n",
            "23/23 [==============================] - 2s 45ms/step - loss: 0.6534 - accuracy: 0.6379 - val_loss: 0.5730 - val_accuracy: 0.7377\n",
            "Epoch 2/50\n",
            "23/23 [==============================] - 1s 35ms/step - loss: 0.5232 - accuracy: 0.7407 - val_loss: 0.5589 - val_accuracy: 0.7377\n",
            "Epoch 3/50\n",
            "23/23 [==============================] - 1s 58ms/step - loss: 0.4980 - accuracy: 0.7613 - val_loss: 0.5390 - val_accuracy: 0.7268\n",
            "Epoch 4/50\n",
            "23/23 [==============================] - 1s 63ms/step - loss: 0.4707 - accuracy: 0.7709 - val_loss: 0.5325 - val_accuracy: 0.7322\n",
            "Epoch 5/50\n",
            "23/23 [==============================] - 2s 75ms/step - loss: 0.4557 - accuracy: 0.7791 - val_loss: 0.5401 - val_accuracy: 0.7213\n",
            "Epoch 6/50\n",
            "23/23 [==============================] - 2s 75ms/step - loss: 0.4457 - accuracy: 0.7764 - val_loss: 0.5692 - val_accuracy: 0.7158\n",
            "Epoch 7/50\n",
            "23/23 [==============================] - 2s 96ms/step - loss: 0.4352 - accuracy: 0.7805 - val_loss: 0.5496 - val_accuracy: 0.7268\n",
            "Epoch 8/50\n",
            "23/23 [==============================] - 2s 72ms/step - loss: 0.4201 - accuracy: 0.7942 - val_loss: 0.5386 - val_accuracy: 0.7104\n",
            "Epoch 9/50\n",
            "23/23 [==============================] - 1s 35ms/step - loss: 0.4115 - accuracy: 0.7942 - val_loss: 0.5899 - val_accuracy: 0.7104\n",
            "Epoch 10/50\n",
            "23/23 [==============================] - 1s 30ms/step - loss: 0.3947 - accuracy: 0.8148 - val_loss: 0.5905 - val_accuracy: 0.7213\n",
            "Epoch 11/50\n",
            "23/23 [==============================] - 1s 31ms/step - loss: 0.3762 - accuracy: 0.8148 - val_loss: 0.5610 - val_accuracy: 0.7322\n",
            "Epoch 12/50\n",
            "23/23 [==============================] - 1s 31ms/step - loss: 0.3501 - accuracy: 0.8381 - val_loss: 0.5895 - val_accuracy: 0.7322\n",
            "Epoch 13/50\n",
            "23/23 [==============================] - 1s 31ms/step - loss: 0.3289 - accuracy: 0.8491 - val_loss: 0.6019 - val_accuracy: 0.7432\n",
            "Epoch 14/50\n",
            "23/23 [==============================] - 1s 34ms/step - loss: 0.3026 - accuracy: 0.8656 - val_loss: 0.6412 - val_accuracy: 0.7213\n",
            "Epoch 15/50\n",
            "23/23 [==============================] - 1s 33ms/step - loss: 0.2689 - accuracy: 0.8820 - val_loss: 0.6642 - val_accuracy: 0.7377\n",
            "Epoch 16/50\n",
            "23/23 [==============================] - 1s 31ms/step - loss: 0.2369 - accuracy: 0.9136 - val_loss: 0.7003 - val_accuracy: 0.7486\n",
            "Epoch 17/50\n",
            "23/23 [==============================] - 1s 36ms/step - loss: 0.2560 - accuracy: 0.8875 - val_loss: 0.7474 - val_accuracy: 0.7213\n",
            "Epoch 18/50\n",
            "23/23 [==============================] - 1s 34ms/step - loss: 0.2029 - accuracy: 0.9246 - val_loss: 0.7839 - val_accuracy: 0.7432\n",
            "Epoch 19/50\n",
            "23/23 [==============================] - 1s 33ms/step - loss: 0.1739 - accuracy: 0.9410 - val_loss: 0.9106 - val_accuracy: 0.7322\n",
            "Epoch 20/50\n",
            "23/23 [==============================] - 1s 31ms/step - loss: 0.1385 - accuracy: 0.9506 - val_loss: 1.0046 - val_accuracy: 0.7158\n",
            "Epoch 21/50\n",
            "23/23 [==============================] - 1s 52ms/step - loss: 0.1375 - accuracy: 0.9575 - val_loss: 0.9461 - val_accuracy: 0.7541\n",
            "Epoch 22/50\n",
            "23/23 [==============================] - 1s 50ms/step - loss: 0.1235 - accuracy: 0.9534 - val_loss: 1.0491 - val_accuracy: 0.7158\n",
            "Epoch 23/50\n",
            "23/23 [==============================] - 1s 38ms/step - loss: 0.1181 - accuracy: 0.9520 - val_loss: 1.1815 - val_accuracy: 0.7158\n",
            "Epoch 24/50\n",
            "23/23 [==============================] - 1s 33ms/step - loss: 0.1051 - accuracy: 0.9616 - val_loss: 1.2348 - val_accuracy: 0.7104\n",
            "Epoch 25/50\n",
            "23/23 [==============================] - 1s 35ms/step - loss: 0.1081 - accuracy: 0.9588 - val_loss: 1.1022 - val_accuracy: 0.7213\n",
            "Epoch 26/50\n",
            "23/23 [==============================] - 1s 33ms/step - loss: 0.0858 - accuracy: 0.9712 - val_loss: 1.1602 - val_accuracy: 0.7322\n",
            "Epoch 27/50\n",
            "23/23 [==============================] - 1s 36ms/step - loss: 0.0941 - accuracy: 0.9643 - val_loss: 1.2847 - val_accuracy: 0.7104\n",
            "Epoch 28/50\n",
            "23/23 [==============================] - 1s 34ms/step - loss: 0.0964 - accuracy: 0.9671 - val_loss: 1.2746 - val_accuracy: 0.7213\n",
            "Epoch 29/50\n",
            "23/23 [==============================] - 1s 34ms/step - loss: 0.0829 - accuracy: 0.9781 - val_loss: 1.3582 - val_accuracy: 0.7213\n",
            "Epoch 30/50\n",
            "23/23 [==============================] - 1s 35ms/step - loss: 0.0647 - accuracy: 0.9808 - val_loss: 1.3036 - val_accuracy: 0.7486\n",
            "Epoch 31/50\n",
            "23/23 [==============================] - 1s 33ms/step - loss: 0.0644 - accuracy: 0.9822 - val_loss: 1.3042 - val_accuracy: 0.7432\n",
            "Epoch 32/50\n",
            "23/23 [==============================] - 1s 33ms/step - loss: 0.0698 - accuracy: 0.9739 - val_loss: 1.2869 - val_accuracy: 0.7541\n",
            "Epoch 33/50\n",
            "23/23 [==============================] - 1s 33ms/step - loss: 0.0506 - accuracy: 0.9822 - val_loss: 1.4004 - val_accuracy: 0.7377\n",
            "Epoch 34/50\n",
            "23/23 [==============================] - 1s 34ms/step - loss: 0.0540 - accuracy: 0.9781 - val_loss: 1.4763 - val_accuracy: 0.7432\n",
            "Epoch 35/50\n",
            "23/23 [==============================] - 1s 33ms/step - loss: 0.0652 - accuracy: 0.9794 - val_loss: 1.3587 - val_accuracy: 0.7869\n",
            "Epoch 36/50\n",
            "23/23 [==============================] - 1s 56ms/step - loss: 0.0659 - accuracy: 0.9835 - val_loss: 1.3631 - val_accuracy: 0.7486\n",
            "Epoch 37/50\n",
            "23/23 [==============================] - 1s 59ms/step - loss: 0.0381 - accuracy: 0.9877 - val_loss: 1.3913 - val_accuracy: 0.7268\n",
            "Epoch 38/50\n",
            "23/23 [==============================] - 1s 39ms/step - loss: 0.0344 - accuracy: 0.9904 - val_loss: 1.3584 - val_accuracy: 0.7705\n",
            "Epoch 39/50\n",
            "23/23 [==============================] - 1s 34ms/step - loss: 0.0300 - accuracy: 0.9918 - val_loss: 1.6109 - val_accuracy: 0.7377\n",
            "Epoch 40/50\n",
            "23/23 [==============================] - 1s 35ms/step - loss: 0.0381 - accuracy: 0.9877 - val_loss: 1.4186 - val_accuracy: 0.7760\n",
            "Epoch 41/50\n",
            "23/23 [==============================] - 1s 34ms/step - loss: 0.0418 - accuracy: 0.9890 - val_loss: 1.4570 - val_accuracy: 0.7705\n",
            "Epoch 42/50\n",
            "23/23 [==============================] - 1s 33ms/step - loss: 0.0483 - accuracy: 0.9808 - val_loss: 1.4603 - val_accuracy: 0.7541\n",
            "Epoch 43/50\n",
            "23/23 [==============================] - 1s 32ms/step - loss: 0.0379 - accuracy: 0.9849 - val_loss: 1.5026 - val_accuracy: 0.7541\n",
            "Epoch 44/50\n",
            "23/23 [==============================] - 1s 33ms/step - loss: 0.0343 - accuracy: 0.9890 - val_loss: 1.5735 - val_accuracy: 0.7322\n",
            "Epoch 45/50\n",
            "23/23 [==============================] - 1s 34ms/step - loss: 0.0248 - accuracy: 0.9918 - val_loss: 1.5845 - val_accuracy: 0.7432\n",
            "Epoch 46/50\n",
            "23/23 [==============================] - 1s 33ms/step - loss: 0.0246 - accuracy: 0.9918 - val_loss: 1.6053 - val_accuracy: 0.7814\n",
            "Epoch 47/50\n",
            "23/23 [==============================] - 1s 34ms/step - loss: 0.0241 - accuracy: 0.9959 - val_loss: 1.6902 - val_accuracy: 0.7322\n",
            "Epoch 48/50\n",
            "23/23 [==============================] - 1s 32ms/step - loss: 0.0273 - accuracy: 0.9945 - val_loss: 1.6168 - val_accuracy: 0.7705\n",
            "Epoch 49/50\n",
            "23/23 [==============================] - 1s 28ms/step - loss: 0.0334 - accuracy: 0.9890 - val_loss: 1.7081 - val_accuracy: 0.7432\n",
            "Epoch 50/50\n",
            "23/23 [==============================] - 1s 28ms/step - loss: 0.0302 - accuracy: 0.9877 - val_loss: 1.6261 - val_accuracy: 0.7596\n",
            "8/8 [==============================] - 0s 8ms/step - loss: 1.3802 - accuracy: 0.7719\n",
            "Test accuracy in training data: 0.7719298005104065\n",
            "6/6 [==============================] - 0s 7ms/step - loss: 2.7326 - accuracy: 0.5778\n",
            "Real Future Test accuracy: 0.5777778029441833\n"
          ]
        }
      ]
    },
    {
      "cell_type": "code",
      "source": [
        "import keras\n",
        "from keras.models import Sequential\n",
        "from keras.layers import Dense, Dropout, Flatten\n",
        "from keras.layers import Conv2D, MaxPooling2D\n",
        "from keras.layers import BatchNormalization\n",
        "#from keras.layers.normalization import BatchNormalization\n",
        "\n",
        "X_train_cnn = X_train.reshape(X_train.shape[0], X_train.shape[1], 1, 1)\n",
        "X_test_cnn = X_test.reshape(X_test.shape[0], X_test.shape[1], 1, 1)\n",
        "X2_cnn = X2.reshape(X2.shape[0], X2.shape[1], 1, 1)\n",
        "\n",
        "# Parse numbers as floats\n",
        "X_train_cnn = X_train_cnn.astype('float32')\n",
        "X_test_cnn = X_test_cnn.astype('float32')\n",
        "X2_cnn = X2_cnn.astype('float32')\n",
        "\n",
        "X_train_cnn /= 255\n",
        "X_test_cnn /= 255\n",
        "X2_cnn /= 255\n",
        "\n",
        "batch_size = 32\n",
        "#num_classes = 10\n",
        "epochs = 50\n",
        "\n",
        "#input image dimensions\n",
        "#img_rows, img_cols = 28, 28\n",
        "\n",
        "\n",
        "model = Sequential()\n",
        "model.add(Conv2D(32, (3, 3), activation='relu', input_shape=X_train_cnn.shape[1:], kernel_initializer='he_normal', padding = 'same', data_format='channels_last'))\n",
        "model.add(BatchNormalization())\n",
        "# model.add(Conv2D(32, kernel_size=(3, 3),\n",
        "#                  activation='relu',\n",
        "#                  kernel_initializer='he_normal',\n",
        "#                  input_shape=input_shape))\n",
        "model.add(MaxPooling2D(pool_size=(2, 2), padding = 'same'))\n",
        "model.add(BatchNormalization())\n",
        "# model.add(Dropout(0.2))\n",
        "model.add(Conv2D(64, (3, 3), activation='relu', padding = 'same'))\n",
        "model.add(BatchNormalization())\n",
        "model.add(MaxPooling2D(pool_size=(2, 2), padding = 'same'))\n",
        "model.add(BatchNormalization())\n",
        "# model.add(Dropout(0.2))\n",
        "model.add(Conv2D(128, (3, 3), activation='relu', padding = 'same'))\n",
        "model.add(BatchNormalization())\n",
        "# model.add(Dropout(0.2))\n",
        "model.add(Flatten())\n",
        "model.add(Dense(512, activation='relu'))\n",
        "model.add(BatchNormalization())\n",
        "model.add(Dense(128, activation='relu'))\n",
        "model.add(BatchNormalization())\n",
        "# model.add(Dropout(0.2))\n",
        "model.add(Dense(64, activation='relu'))\n",
        "model.add(BatchNormalization())\n",
        "model.add(Dense(8, activation='relu'))\n",
        "model.add(BatchNormalization())\n",
        "\n",
        "# Add an output layer with 1 neuron and sigmoid activation for binary classification\n",
        "model.add(Dense(1, activation='sigmoid'))\n",
        "\n",
        "# Compile the model with binary cross-entropy loss function and Adam optimizer\n",
        "model.compile(loss='binary_crossentropy', optimizer=keras.optimizers.Adam(), metrics=['accuracy'])\n",
        "\n",
        "# Train the model on the training data\n",
        "history = model.fit(X_train_cnn, y_train, epochs=50, batch_size=32, validation_split=0.2)\n",
        "\n",
        "test_loss, test_acc = model.evaluate(X_test_cnn, y_test)\n",
        "print('Test accuracy in training data:', test_acc)\n",
        "\n",
        "test_loss, test_acc = model.evaluate(X2_cnn, y2)\n",
        "print('Real Future Test accuracy:', test_acc)\n"
      ],
      "metadata": {
        "id": "1qwlRiedb6B9",
        "colab": {
          "base_uri": "https://localhost:8080/"
        },
        "outputId": "886583e1-4590-48a4-8508-66d8b8a89b94"
      },
      "execution_count": null,
      "outputs": [
        {
          "output_type": "stream",
          "name": "stdout",
          "text": [
            "Epoch 1/50\n",
            "23/23 [==============================] - 6s 65ms/step - loss: 0.6999 - accuracy: 0.6516 - val_loss: 0.6834 - val_accuracy: 0.5738\n",
            "Epoch 2/50\n",
            "23/23 [==============================] - 1s 53ms/step - loss: 0.4729 - accuracy: 0.7833 - val_loss: 0.6844 - val_accuracy: 0.5738\n",
            "Epoch 3/50\n",
            "23/23 [==============================] - 1s 49ms/step - loss: 0.3794 - accuracy: 0.8409 - val_loss: 0.6878 - val_accuracy: 0.5738\n",
            "Epoch 4/50\n",
            "23/23 [==============================] - 1s 50ms/step - loss: 0.3393 - accuracy: 0.8505 - val_loss: 0.6891 - val_accuracy: 0.5738\n",
            "Epoch 5/50\n",
            "23/23 [==============================] - 1s 54ms/step - loss: 0.3001 - accuracy: 0.8834 - val_loss: 0.6869 - val_accuracy: 0.5738\n",
            "Epoch 6/50\n",
            "23/23 [==============================] - 1s 52ms/step - loss: 0.2646 - accuracy: 0.9040 - val_loss: 0.6828 - val_accuracy: 0.5738\n",
            "Epoch 7/50\n",
            "23/23 [==============================] - 1s 53ms/step - loss: 0.2443 - accuracy: 0.8985 - val_loss: 0.7039 - val_accuracy: 0.4262\n",
            "Epoch 8/50\n",
            "23/23 [==============================] - 1s 55ms/step - loss: 0.2325 - accuracy: 0.9108 - val_loss: 0.7201 - val_accuracy: 0.4262\n",
            "Epoch 9/50\n",
            "23/23 [==============================] - 2s 82ms/step - loss: 0.2109 - accuracy: 0.9287 - val_loss: 0.7233 - val_accuracy: 0.4262\n",
            "Epoch 10/50\n",
            "23/23 [==============================] - 1s 60ms/step - loss: 0.1858 - accuracy: 0.9451 - val_loss: 0.7272 - val_accuracy: 0.4262\n",
            "Epoch 11/50\n",
            "23/23 [==============================] - 1s 52ms/step - loss: 0.1865 - accuracy: 0.9287 - val_loss: 1.0529 - val_accuracy: 0.4262\n",
            "Epoch 12/50\n",
            "23/23 [==============================] - 1s 50ms/step - loss: 0.1796 - accuracy: 0.9396 - val_loss: 1.1352 - val_accuracy: 0.4262\n",
            "Epoch 13/50\n",
            "23/23 [==============================] - 1s 54ms/step - loss: 0.1802 - accuracy: 0.9342 - val_loss: 1.3290 - val_accuracy: 0.4262\n",
            "Epoch 14/50\n",
            "23/23 [==============================] - 1s 50ms/step - loss: 0.1661 - accuracy: 0.9396 - val_loss: 1.3846 - val_accuracy: 0.4262\n",
            "Epoch 15/50\n",
            "23/23 [==============================] - 1s 54ms/step - loss: 0.1413 - accuracy: 0.9506 - val_loss: 1.2317 - val_accuracy: 0.4262\n",
            "Epoch 16/50\n",
            "23/23 [==============================] - 1s 56ms/step - loss: 0.1597 - accuracy: 0.9396 - val_loss: 1.0830 - val_accuracy: 0.4262\n",
            "Epoch 17/50\n",
            "23/23 [==============================] - 1s 52ms/step - loss: 0.1453 - accuracy: 0.9492 - val_loss: 1.2253 - val_accuracy: 0.4262\n",
            "Epoch 18/50\n",
            "23/23 [==============================] - 1s 62ms/step - loss: 0.1306 - accuracy: 0.9616 - val_loss: 1.0151 - val_accuracy: 0.4262\n",
            "Epoch 19/50\n",
            "23/23 [==============================] - 2s 96ms/step - loss: 0.1315 - accuracy: 0.9520 - val_loss: 1.2053 - val_accuracy: 0.4262\n",
            "Epoch 20/50\n",
            "23/23 [==============================] - 1s 52ms/step - loss: 0.1383 - accuracy: 0.9465 - val_loss: 0.6733 - val_accuracy: 0.5683\n",
            "Epoch 21/50\n",
            "23/23 [==============================] - 1s 53ms/step - loss: 0.1225 - accuracy: 0.9643 - val_loss: 1.0342 - val_accuracy: 0.4262\n",
            "Epoch 22/50\n",
            "23/23 [==============================] - 1s 49ms/step - loss: 0.1243 - accuracy: 0.9588 - val_loss: 1.0182 - val_accuracy: 0.4536\n",
            "Epoch 23/50\n",
            "23/23 [==============================] - 1s 53ms/step - loss: 0.1208 - accuracy: 0.9547 - val_loss: 0.8386 - val_accuracy: 0.5355\n",
            "Epoch 24/50\n",
            "23/23 [==============================] - 1s 53ms/step - loss: 0.0812 - accuracy: 0.9781 - val_loss: 0.8466 - val_accuracy: 0.5792\n",
            "Epoch 25/50\n",
            "23/23 [==============================] - 1s 56ms/step - loss: 0.0863 - accuracy: 0.9684 - val_loss: 0.8376 - val_accuracy: 0.6066\n",
            "Epoch 26/50\n",
            "23/23 [==============================] - 1s 51ms/step - loss: 0.0832 - accuracy: 0.9712 - val_loss: 0.7368 - val_accuracy: 0.6120\n",
            "Epoch 27/50\n",
            "23/23 [==============================] - 1s 50ms/step - loss: 0.0561 - accuracy: 0.9863 - val_loss: 0.7581 - val_accuracy: 0.6831\n",
            "Epoch 28/50\n",
            "23/23 [==============================] - 2s 76ms/step - loss: 0.0789 - accuracy: 0.9712 - val_loss: 0.6758 - val_accuracy: 0.7213\n",
            "Epoch 29/50\n",
            "23/23 [==============================] - 2s 79ms/step - loss: 0.0850 - accuracy: 0.9671 - val_loss: 0.6565 - val_accuracy: 0.7268\n",
            "Epoch 30/50\n",
            "23/23 [==============================] - 1s 51ms/step - loss: 0.0704 - accuracy: 0.9767 - val_loss: 0.8612 - val_accuracy: 0.6612\n",
            "Epoch 31/50\n",
            "23/23 [==============================] - 1s 52ms/step - loss: 0.0955 - accuracy: 0.9684 - val_loss: 0.7121 - val_accuracy: 0.7213\n",
            "Epoch 32/50\n",
            "23/23 [==============================] - 1s 55ms/step - loss: 0.0951 - accuracy: 0.9698 - val_loss: 0.7242 - val_accuracy: 0.7213\n",
            "Epoch 33/50\n",
            "23/23 [==============================] - 1s 50ms/step - loss: 0.1008 - accuracy: 0.9588 - val_loss: 0.6471 - val_accuracy: 0.7322\n",
            "Epoch 34/50\n",
            "23/23 [==============================] - 1s 55ms/step - loss: 0.0933 - accuracy: 0.9712 - val_loss: 0.7906 - val_accuracy: 0.7377\n",
            "Epoch 35/50\n",
            "23/23 [==============================] - 1s 51ms/step - loss: 0.1177 - accuracy: 0.9534 - val_loss: 0.6871 - val_accuracy: 0.7432\n",
            "Epoch 36/50\n",
            "23/23 [==============================] - 1s 52ms/step - loss: 0.1005 - accuracy: 0.9602 - val_loss: 0.8176 - val_accuracy: 0.6940\n",
            "Epoch 37/50\n",
            "23/23 [==============================] - 1s 51ms/step - loss: 0.0878 - accuracy: 0.9671 - val_loss: 0.8854 - val_accuracy: 0.7268\n",
            "Epoch 38/50\n",
            "23/23 [==============================] - 2s 82ms/step - loss: 0.0643 - accuracy: 0.9781 - val_loss: 0.8088 - val_accuracy: 0.7158\n",
            "Epoch 39/50\n",
            "23/23 [==============================] - 2s 70ms/step - loss: 0.0466 - accuracy: 0.9890 - val_loss: 0.8940 - val_accuracy: 0.6885\n",
            "Epoch 40/50\n",
            "23/23 [==============================] - 1s 49ms/step - loss: 0.0522 - accuracy: 0.9863 - val_loss: 0.7767 - val_accuracy: 0.7213\n",
            "Epoch 41/50\n",
            "23/23 [==============================] - 1s 55ms/step - loss: 0.0416 - accuracy: 0.9890 - val_loss: 0.8057 - val_accuracy: 0.7432\n",
            "Epoch 42/50\n",
            "23/23 [==============================] - 1s 52ms/step - loss: 0.0528 - accuracy: 0.9822 - val_loss: 0.8979 - val_accuracy: 0.7486\n",
            "Epoch 43/50\n",
            "23/23 [==============================] - 1s 53ms/step - loss: 0.0402 - accuracy: 0.9890 - val_loss: 0.9174 - val_accuracy: 0.7650\n",
            "Epoch 44/50\n",
            "23/23 [==============================] - 1s 52ms/step - loss: 0.0479 - accuracy: 0.9890 - val_loss: 0.8240 - val_accuracy: 0.7432\n",
            "Epoch 45/50\n",
            "23/23 [==============================] - 1s 53ms/step - loss: 0.0725 - accuracy: 0.9753 - val_loss: 1.3625 - val_accuracy: 0.6175\n",
            "Epoch 46/50\n",
            "23/23 [==============================] - 1s 51ms/step - loss: 0.0723 - accuracy: 0.9739 - val_loss: 1.2501 - val_accuracy: 0.5956\n",
            "Epoch 47/50\n",
            "23/23 [==============================] - 1s 53ms/step - loss: 0.0720 - accuracy: 0.9794 - val_loss: 1.1473 - val_accuracy: 0.6339\n",
            "Epoch 48/50\n",
            "23/23 [==============================] - 2s 84ms/step - loss: 0.0903 - accuracy: 0.9684 - val_loss: 0.8339 - val_accuracy: 0.7158\n",
            "Epoch 49/50\n",
            "23/23 [==============================] - 2s 69ms/step - loss: 0.0841 - accuracy: 0.9726 - val_loss: 0.9239 - val_accuracy: 0.6940\n",
            "Epoch 50/50\n",
            "23/23 [==============================] - 1s 50ms/step - loss: 0.0786 - accuracy: 0.9739 - val_loss: 0.8691 - val_accuracy: 0.7596\n",
            "8/8 [==============================] - 0s 15ms/step - loss: 0.9546 - accuracy: 0.7281\n",
            "Test accuracy in training data: 0.7280701994895935\n",
            "6/6 [==============================] - 0s 15ms/step - loss: 1.5946 - accuracy: 0.5333\n",
            "Real Future Test accuracy: 0.5333333611488342\n"
          ]
        }
      ]
    },
    {
      "cell_type": "code",
      "source": [],
      "metadata": {
        "id": "xG-7o_yVD8Vy"
      },
      "execution_count": null,
      "outputs": []
    }
  ]
}