{
  "nbformat": 4,
  "nbformat_minor": 0,
  "metadata": {
    "colab": {
      "provenance": [],
      "toc_visible": true,
      "authorship_tag": "ABX9TyPKqUw/iKfcSCJWURazLZsY",
      "include_colab_link": true
    },
    "kernelspec": {
      "name": "python3",
      "display_name": "Python 3"
    },
    "language_info": {
      "name": "python"
    }
  },
  "cells": [
    {
      "cell_type": "markdown",
      "metadata": {
        "id": "view-in-github",
        "colab_type": "text"
      },
      "source": [
        "<a href=\"https://colab.research.google.com/github/benhakunama/machinelearning/blob/main/benma_hw5.ipynb\" target=\"_parent\"><img src=\"https://colab.research.google.com/assets/colab-badge.svg\" alt=\"Open In Colab\"/></a>"
      ]
    },
    {
      "cell_type": "code",
      "execution_count": 40,
      "metadata": {
        "id": "MMPrROoYwDYX"
      },
      "outputs": [],
      "source": [
        "from tensorflow import keras\n",
        "from keras.preprocessing.image import ImageDataGenerator as IDG\n",
        "import pandas as pd\n",
        "from sklearn.model_selection import train_test_split\n",
        "import os"
      ]
    },
    {
      "cell_type": "code",
      "source": [
        "import pandas as pd\n",
        "from sklearn.model_selection import train_test_split, GridSearchCV\n",
        "from sklearn.preprocessing import OneHotEncoder, StandardScaler\n",
        "from sklearn.compose import ColumnTransformer\n",
        "from sklearn.feature_selection import RFECV\n",
        "from sklearn.tree import DecisionTreeClassifier\n",
        "from sklearn.ensemble import GradientBoostingClassifier, BaggingClassifier, RandomForestClassifier\n",
        "from sklearn.metrics import accuracy_score, confusion_matrix, precision_recall_curve\n",
        "import matplotlib.pyplot as plt\n",
        "from xgboost import XGBClassifier"
      ],
      "metadata": {
        "id": "nLuarTvLxDOL"
      },
      "execution_count": 41,
      "outputs": []
    },
    {
      "cell_type": "code",
      "source": [
        "Xtrain_df = pd.read_csv(\"Xtrain.csv\")"
      ],
      "metadata": {
        "id": "pAYKwTmexJMb"
      },
      "execution_count": 42,
      "outputs": []
    },
    {
      "cell_type": "code",
      "source": [
        "Xtrain.columns"
      ],
      "metadata": {
        "colab": {
          "base_uri": "https://localhost:8080/"
        },
        "id": "N_EW2VpdypM-",
        "outputId": "3d31b51a-1235-47c0-daf6-7236e150126d"
      },
      "execution_count": 43,
      "outputs": [
        {
          "output_type": "execute_result",
          "data": {
            "text/plain": [
              "Index(['angle.tBodyAccJerkMean..gravityMean.', 'angle.tBodyAccMean.gravity.',\n",
              "       'angle.tBodyGyroJerkMean.gravityMean.',\n",
              "       'angle.tBodyGyroMean.gravityMean.', 'angle.X.gravityMean.',\n",
              "       'angle.Y.gravityMean.', 'angle.Z.gravityMean.',\n",
              "       'fBodyAcc.bandsEnergy...1.16', 'fBodyAcc.bandsEnergy...1.24',\n",
              "       'fBodyAcc.bandsEnergy...1.8',\n",
              "       ...\n",
              "       'tGravityAccMag.arCoeff..4', 'tGravityAccMag.energy..',\n",
              "       'tGravityAccMag.entropy..', 'tGravityAccMag.iqr..',\n",
              "       'tGravityAccMag.mad..', 'tGravityAccMag.max..', 'tGravityAccMag.mean..',\n",
              "       'tGravityAccMag.min..', 'tGravityAccMag.sma..', 'tGravityAccMag.std..'],\n",
              "      dtype='object', length=477)"
            ]
          },
          "metadata": {},
          "execution_count": 43
        }
      ]
    },
    {
      "cell_type": "code",
      "source": [
        "print(len(Xtrain.columns))"
      ],
      "metadata": {
        "colab": {
          "base_uri": "https://localhost:8080/"
        },
        "id": "N55Rn5lFCUNr",
        "outputId": "65cf4e9f-c64f-4b1c-be70-0b55e4ef2d1c"
      },
      "execution_count": 44,
      "outputs": [
        {
          "output_type": "stream",
          "name": "stdout",
          "text": [
            "477\n"
          ]
        }
      ]
    },
    {
      "cell_type": "code",
      "source": [
        "Xtrain.head()"
      ],
      "metadata": {
        "colab": {
          "base_uri": "https://localhost:8080/",
          "height": 300
        },
        "id": "iC084olnxNgP",
        "outputId": "263a4947-ff36-43ab-8d7f-a03119927ce5"
      },
      "execution_count": 45,
      "outputs": [
        {
          "output_type": "execute_result",
          "data": {
            "text/plain": [
              "   angle.tBodyAccJerkMean..gravityMean.  angle.tBodyAccMean.gravity.  \\\n",
              "0                              0.030400                    -0.112754   \n",
              "1                             -0.007435                     0.053477   \n",
              "2                              0.177899                    -0.118559   \n",
              "3                             -0.012892                    -0.036788   \n",
              "4                              0.122542                     0.123320   \n",
              "\n",
              "   angle.tBodyGyroJerkMean.gravityMean.  angle.tBodyGyroMean.gravityMean.  \\\n",
              "0                             -0.018446                         -0.464761   \n",
              "1                              0.703511                         -0.732626   \n",
              "2                              0.808529                          0.100699   \n",
              "3                             -0.485366                          0.640011   \n",
              "4                             -0.615971                          0.693578   \n",
              "\n",
              "   angle.X.gravityMean.  angle.Y.gravityMean.  angle.Z.gravityMean.  \\\n",
              "0             -0.841247              0.179941             -0.058627   \n",
              "1             -0.844788              0.180289             -0.054317   \n",
              "2             -0.848933              0.180637             -0.049118   \n",
              "3             -0.848649              0.181935             -0.047663   \n",
              "4             -0.847865              0.185151             -0.043892   \n",
              "\n",
              "   fBodyAcc.bandsEnergy...1.16  fBodyAcc.bandsEnergy...1.24  \\\n",
              "0                    -0.999969                    -0.999971   \n",
              "1                    -0.999994                    -0.999992   \n",
              "2                    -0.999983                    -0.999972   \n",
              "3                    -0.999986                    -0.999977   \n",
              "4                    -0.999993                    -0.999991   \n",
              "\n",
              "   fBodyAcc.bandsEnergy...1.8  ...  tGravityAccMag.arCoeff..4  \\\n",
              "0                   -0.999963  ...                   0.191817   \n",
              "1                   -0.999996  ...                  -0.411675   \n",
              "2                   -0.999989  ...                  -0.296130   \n",
              "3                   -0.999989  ...                   0.037143   \n",
              "4                   -0.999994  ...                  -0.355851   \n",
              "\n",
              "   tGravityAccMag.energy..  tGravityAccMag.entropy..  tGravityAccMag.iqr..  \\\n",
              "0                -0.998493                 -0.232582             -0.957637   \n",
              "1                -0.999488                 -0.441876             -0.981248   \n",
              "2                -0.999682                 -0.599939             -0.985767   \n",
              "3                -0.999737                 -0.589006             -0.983509   \n",
              "4                -0.999881                 -0.704599             -0.989608   \n",
              "\n",
              "   tGravityAccMag.mad..  tGravityAccMag.max..  tGravityAccMag.mean..  \\\n",
              "0             -0.957993             -0.946305              -0.959434   \n",
              "1             -0.978247             -0.978711              -0.979289   \n",
              "2             -0.988327             -0.986496              -0.983703   \n",
              "3             -0.986431             -0.986496              -0.986542   \n",
              "4             -0.991170             -0.990962              -0.992827   \n",
              "\n",
              "   tGravityAccMag.min..  tGravityAccMag.sma..  tGravityAccMag.std..  \n",
              "0             -0.992556             -0.959434             -0.950551  \n",
              "1             -0.995333             -0.979289             -0.976057  \n",
              "2             -0.995333             -0.983703             -0.988020  \n",
              "3             -0.997045             -0.986542             -0.986421  \n",
              "4             -0.997045             -0.992827             -0.991275  \n",
              "\n",
              "[5 rows x 477 columns]"
            ],
            "text/html": [
              "\n",
              "  <div id=\"df-0e4615d9-ed06-4c56-a003-d67eae25c4df\">\n",
              "    <div class=\"colab-df-container\">\n",
              "      <div>\n",
              "<style scoped>\n",
              "    .dataframe tbody tr th:only-of-type {\n",
              "        vertical-align: middle;\n",
              "    }\n",
              "\n",
              "    .dataframe tbody tr th {\n",
              "        vertical-align: top;\n",
              "    }\n",
              "\n",
              "    .dataframe thead th {\n",
              "        text-align: right;\n",
              "    }\n",
              "</style>\n",
              "<table border=\"1\" class=\"dataframe\">\n",
              "  <thead>\n",
              "    <tr style=\"text-align: right;\">\n",
              "      <th></th>\n",
              "      <th>angle.tBodyAccJerkMean..gravityMean.</th>\n",
              "      <th>angle.tBodyAccMean.gravity.</th>\n",
              "      <th>angle.tBodyGyroJerkMean.gravityMean.</th>\n",
              "      <th>angle.tBodyGyroMean.gravityMean.</th>\n",
              "      <th>angle.X.gravityMean.</th>\n",
              "      <th>angle.Y.gravityMean.</th>\n",
              "      <th>angle.Z.gravityMean.</th>\n",
              "      <th>fBodyAcc.bandsEnergy...1.16</th>\n",
              "      <th>fBodyAcc.bandsEnergy...1.24</th>\n",
              "      <th>fBodyAcc.bandsEnergy...1.8</th>\n",
              "      <th>...</th>\n",
              "      <th>tGravityAccMag.arCoeff..4</th>\n",
              "      <th>tGravityAccMag.energy..</th>\n",
              "      <th>tGravityAccMag.entropy..</th>\n",
              "      <th>tGravityAccMag.iqr..</th>\n",
              "      <th>tGravityAccMag.mad..</th>\n",
              "      <th>tGravityAccMag.max..</th>\n",
              "      <th>tGravityAccMag.mean..</th>\n",
              "      <th>tGravityAccMag.min..</th>\n",
              "      <th>tGravityAccMag.sma..</th>\n",
              "      <th>tGravityAccMag.std..</th>\n",
              "    </tr>\n",
              "  </thead>\n",
              "  <tbody>\n",
              "    <tr>\n",
              "      <th>0</th>\n",
              "      <td>0.030400</td>\n",
              "      <td>-0.112754</td>\n",
              "      <td>-0.018446</td>\n",
              "      <td>-0.464761</td>\n",
              "      <td>-0.841247</td>\n",
              "      <td>0.179941</td>\n",
              "      <td>-0.058627</td>\n",
              "      <td>-0.999969</td>\n",
              "      <td>-0.999971</td>\n",
              "      <td>-0.999963</td>\n",
              "      <td>...</td>\n",
              "      <td>0.191817</td>\n",
              "      <td>-0.998493</td>\n",
              "      <td>-0.232582</td>\n",
              "      <td>-0.957637</td>\n",
              "      <td>-0.957993</td>\n",
              "      <td>-0.946305</td>\n",
              "      <td>-0.959434</td>\n",
              "      <td>-0.992556</td>\n",
              "      <td>-0.959434</td>\n",
              "      <td>-0.950551</td>\n",
              "    </tr>\n",
              "    <tr>\n",
              "      <th>1</th>\n",
              "      <td>-0.007435</td>\n",
              "      <td>0.053477</td>\n",
              "      <td>0.703511</td>\n",
              "      <td>-0.732626</td>\n",
              "      <td>-0.844788</td>\n",
              "      <td>0.180289</td>\n",
              "      <td>-0.054317</td>\n",
              "      <td>-0.999994</td>\n",
              "      <td>-0.999992</td>\n",
              "      <td>-0.999996</td>\n",
              "      <td>...</td>\n",
              "      <td>-0.411675</td>\n",
              "      <td>-0.999488</td>\n",
              "      <td>-0.441876</td>\n",
              "      <td>-0.981248</td>\n",
              "      <td>-0.978247</td>\n",
              "      <td>-0.978711</td>\n",
              "      <td>-0.979289</td>\n",
              "      <td>-0.995333</td>\n",
              "      <td>-0.979289</td>\n",
              "      <td>-0.976057</td>\n",
              "    </tr>\n",
              "    <tr>\n",
              "      <th>2</th>\n",
              "      <td>0.177899</td>\n",
              "      <td>-0.118559</td>\n",
              "      <td>0.808529</td>\n",
              "      <td>0.100699</td>\n",
              "      <td>-0.848933</td>\n",
              "      <td>0.180637</td>\n",
              "      <td>-0.049118</td>\n",
              "      <td>-0.999983</td>\n",
              "      <td>-0.999972</td>\n",
              "      <td>-0.999989</td>\n",
              "      <td>...</td>\n",
              "      <td>-0.296130</td>\n",
              "      <td>-0.999682</td>\n",
              "      <td>-0.599939</td>\n",
              "      <td>-0.985767</td>\n",
              "      <td>-0.988327</td>\n",
              "      <td>-0.986496</td>\n",
              "      <td>-0.983703</td>\n",
              "      <td>-0.995333</td>\n",
              "      <td>-0.983703</td>\n",
              "      <td>-0.988020</td>\n",
              "    </tr>\n",
              "    <tr>\n",
              "      <th>3</th>\n",
              "      <td>-0.012892</td>\n",
              "      <td>-0.036788</td>\n",
              "      <td>-0.485366</td>\n",
              "      <td>0.640011</td>\n",
              "      <td>-0.848649</td>\n",
              "      <td>0.181935</td>\n",
              "      <td>-0.047663</td>\n",
              "      <td>-0.999986</td>\n",
              "      <td>-0.999977</td>\n",
              "      <td>-0.999989</td>\n",
              "      <td>...</td>\n",
              "      <td>0.037143</td>\n",
              "      <td>-0.999737</td>\n",
              "      <td>-0.589006</td>\n",
              "      <td>-0.983509</td>\n",
              "      <td>-0.986431</td>\n",
              "      <td>-0.986496</td>\n",
              "      <td>-0.986542</td>\n",
              "      <td>-0.997045</td>\n",
              "      <td>-0.986542</td>\n",
              "      <td>-0.986421</td>\n",
              "    </tr>\n",
              "    <tr>\n",
              "      <th>4</th>\n",
              "      <td>0.122542</td>\n",
              "      <td>0.123320</td>\n",
              "      <td>-0.615971</td>\n",
              "      <td>0.693578</td>\n",
              "      <td>-0.847865</td>\n",
              "      <td>0.185151</td>\n",
              "      <td>-0.043892</td>\n",
              "      <td>-0.999993</td>\n",
              "      <td>-0.999991</td>\n",
              "      <td>-0.999994</td>\n",
              "      <td>...</td>\n",
              "      <td>-0.355851</td>\n",
              "      <td>-0.999881</td>\n",
              "      <td>-0.704599</td>\n",
              "      <td>-0.989608</td>\n",
              "      <td>-0.991170</td>\n",
              "      <td>-0.990962</td>\n",
              "      <td>-0.992827</td>\n",
              "      <td>-0.997045</td>\n",
              "      <td>-0.992827</td>\n",
              "      <td>-0.991275</td>\n",
              "    </tr>\n",
              "  </tbody>\n",
              "</table>\n",
              "<p>5 rows × 477 columns</p>\n",
              "</div>\n",
              "      <button class=\"colab-df-convert\" onclick=\"convertToInteractive('df-0e4615d9-ed06-4c56-a003-d67eae25c4df')\"\n",
              "              title=\"Convert this dataframe to an interactive table.\"\n",
              "              style=\"display:none;\">\n",
              "        \n",
              "  <svg xmlns=\"http://www.w3.org/2000/svg\" height=\"24px\"viewBox=\"0 0 24 24\"\n",
              "       width=\"24px\">\n",
              "    <path d=\"M0 0h24v24H0V0z\" fill=\"none\"/>\n",
              "    <path d=\"M18.56 5.44l.94 2.06.94-2.06 2.06-.94-2.06-.94-.94-2.06-.94 2.06-2.06.94zm-11 1L8.5 8.5l.94-2.06 2.06-.94-2.06-.94L8.5 2.5l-.94 2.06-2.06.94zm10 10l.94 2.06.94-2.06 2.06-.94-2.06-.94-.94-2.06-.94 2.06-2.06.94z\"/><path d=\"M17.41 7.96l-1.37-1.37c-.4-.4-.92-.59-1.43-.59-.52 0-1.04.2-1.43.59L10.3 9.45l-7.72 7.72c-.78.78-.78 2.05 0 2.83L4 21.41c.39.39.9.59 1.41.59.51 0 1.02-.2 1.41-.59l7.78-7.78 2.81-2.81c.8-.78.8-2.07 0-2.86zM5.41 20L4 18.59l7.72-7.72 1.47 1.35L5.41 20z\"/>\n",
              "  </svg>\n",
              "      </button>\n",
              "      \n",
              "  <style>\n",
              "    .colab-df-container {\n",
              "      display:flex;\n",
              "      flex-wrap:wrap;\n",
              "      gap: 12px;\n",
              "    }\n",
              "\n",
              "    .colab-df-convert {\n",
              "      background-color: #E8F0FE;\n",
              "      border: none;\n",
              "      border-radius: 50%;\n",
              "      cursor: pointer;\n",
              "      display: none;\n",
              "      fill: #1967D2;\n",
              "      height: 32px;\n",
              "      padding: 0 0 0 0;\n",
              "      width: 32px;\n",
              "    }\n",
              "\n",
              "    .colab-df-convert:hover {\n",
              "      background-color: #E2EBFA;\n",
              "      box-shadow: 0px 1px 2px rgba(60, 64, 67, 0.3), 0px 1px 3px 1px rgba(60, 64, 67, 0.15);\n",
              "      fill: #174EA6;\n",
              "    }\n",
              "\n",
              "    [theme=dark] .colab-df-convert {\n",
              "      background-color: #3B4455;\n",
              "      fill: #D2E3FC;\n",
              "    }\n",
              "\n",
              "    [theme=dark] .colab-df-convert:hover {\n",
              "      background-color: #434B5C;\n",
              "      box-shadow: 0px 1px 3px 1px rgba(0, 0, 0, 0.15);\n",
              "      filter: drop-shadow(0px 1px 2px rgba(0, 0, 0, 0.3));\n",
              "      fill: #FFFFFF;\n",
              "    }\n",
              "  </style>\n",
              "\n",
              "      <script>\n",
              "        const buttonEl =\n",
              "          document.querySelector('#df-0e4615d9-ed06-4c56-a003-d67eae25c4df button.colab-df-convert');\n",
              "        buttonEl.style.display =\n",
              "          google.colab.kernel.accessAllowed ? 'block' : 'none';\n",
              "\n",
              "        async function convertToInteractive(key) {\n",
              "          const element = document.querySelector('#df-0e4615d9-ed06-4c56-a003-d67eae25c4df');\n",
              "          const dataTable =\n",
              "            await google.colab.kernel.invokeFunction('convertToInteractive',\n",
              "                                                     [key], {});\n",
              "          if (!dataTable) return;\n",
              "\n",
              "          const docLinkHtml = 'Like what you see? Visit the ' +\n",
              "            '<a target=\"_blank\" href=https://colab.research.google.com/notebooks/data_table.ipynb>data table notebook</a>'\n",
              "            + ' to learn more about interactive tables.';\n",
              "          element.innerHTML = '';\n",
              "          dataTable['output_type'] = 'display_data';\n",
              "          await google.colab.output.renderOutput(dataTable, element);\n",
              "          const docLink = document.createElement('div');\n",
              "          docLink.innerHTML = docLinkHtml;\n",
              "          element.appendChild(docLink);\n",
              "        }\n",
              "      </script>\n",
              "    </div>\n",
              "  </div>\n",
              "  "
            ]
          },
          "metadata": {},
          "execution_count": 45
        }
      ]
    },
    {
      "cell_type": "code",
      "source": [
        "Ytrain_df = pd.read_csv(\"Ytrain.csv\")\n",
        "Xtest_df = pd.read_csv(\"Xtest.csv\")\n",
        "Ytest_df = pd.read_csv(\"Ytest.csv\")"
      ],
      "metadata": {
        "id": "GOSnvxlHyqN5"
      },
      "execution_count": 46,
      "outputs": []
    },
    {
      "cell_type": "code",
      "source": [
        "Xtrain = Xtrain_df.drop(['id', 'X'], axis=1)\n",
        "Xtest = Xtest_df.drop(['id', 'X'], axis=1)\n"
      ],
      "metadata": {
        "id": "kj6-1oWGyqpi"
      },
      "execution_count": 47,
      "outputs": []
    },
    {
      "cell_type": "code",
      "source": [
        "print(Ytrain_df['data.y_train'].value_counts())"
      ],
      "metadata": {
        "colab": {
          "base_uri": "https://localhost:8080/"
        },
        "id": "KNMMtljDDOJl",
        "outputId": "1ac8abff-15d4-462d-9a68-74584a632d21"
      },
      "execution_count": 54,
      "outputs": [
        {
          "output_type": "stream",
          "name": "stdout",
          "text": [
            "Laying               1407\n",
            "Standing             1374\n",
            "Sitting              1286\n",
            "Walking              1226\n",
            "WalkingUpstairs      1073\n",
            "WalkingDownstairs     986\n",
            "Name: data.y_train, dtype: int64\n"
          ]
        }
      ]
    },
    {
      "cell_type": "code",
      "source": [
        "Ytrain = Ytrain_df['data.y_train']\n",
        "Ytest = Ytest_df['data.y_test']"
      ],
      "metadata": {
        "id": "D-2mGJcazVPW"
      },
      "execution_count": 48,
      "outputs": []
    },
    {
      "cell_type": "code",
      "source": [
        "from sklearn import preprocessing\n",
        "# Transform the labels from String to Integer via LabelEncoder\n",
        "\n",
        "le = preprocessing.LabelEncoder()\n",
        "Ytrain = le.fit_transform(Ytrain)\n",
        "Ytest = le.transform(Ytest)"
      ],
      "metadata": {
        "id": "IL9iPufB5EeN"
      },
      "execution_count": 49,
      "outputs": []
    },
    {
      "cell_type": "code",
      "source": [
        "from sklearn.linear_model import LogisticRegression\n",
        "from sklearn import metrics\n",
        "\n"
      ],
      "metadata": {
        "id": "l9OIZZxx0_Pr"
      },
      "execution_count": 50,
      "outputs": []
    },
    {
      "cell_type": "code",
      "source": [
        "from sklearn.ensemble import RandomForestClassifier as RFC\n",
        "from sklearn.neighbors import KNeighborsClassifier as KNC\n",
        "from sklearn.preprocessing import StandardScaler"
      ],
      "metadata": {
        "id": "5xbnntn7zebU"
      },
      "execution_count": 51,
      "outputs": []
    },
    {
      "cell_type": "code",
      "source": [
        "scaler = StandardScaler()\n",
        "train_features = scaler.fit_transform(Xtrain)\n",
        "test_features = scaler.transform(Xtest)\n",
        "\n",
        "# instantiate the model (using the default parameters)\n",
        "lr = LogisticRegression(random_state=0, solver='lbfgs',multi_class='multinomial')\n",
        "rfc = RFC(min_samples_split = 0.01)\n",
        "knc = KNC()\n",
        "\n",
        "# fit the model with data\n",
        "lr.fit(train_features, Ytrain)\n",
        "rfc.fit(train_features, Ytrain)\n",
        "knc.fit(train_features, Ytrain)\n",
        "\n",
        "lr_test_pred = lr.predict(test_features)\n",
        "rfc_test_pred = rfc.predict(test_features)\n",
        "knc_test_pred = knc.predict(test_features)\n",
        "\n",
        "print('The accuracy of the Logistic Regression is', metrics.accuracy_score(lr_test_pred,Ytest))\n",
        "print('The accuracy of the Random Forests is', metrics.accuracy_score(rfc_test_pred,Ytest))\n",
        "print('The accuracy of the 5-NN is', metrics.accuracy_score(knc_test_pred,Ytest))\n",
        "\n",
        "print(\"Logistic Regression made {} mistakes\".format(sum(lr_test_pred != Ytest)))\n",
        "print(\"Random Forests made {} mistakes\".format(sum(rfc_test_pred != Ytest)))\n",
        "print(\"5-NN made {} mistakes\".format(sum(knc_test_pred != Ytest)))\n"
      ],
      "metadata": {
        "colab": {
          "base_uri": "https://localhost:8080/"
        },
        "id": "n7vp4bxP0qfU",
        "outputId": "024854b0-62f2-4f95-954b-5d10816b03e7"
      },
      "execution_count": 52,
      "outputs": [
        {
          "output_type": "stream",
          "name": "stderr",
          "text": [
            "/usr/local/lib/python3.8/dist-packages/sklearn/linear_model/_logistic.py:814: ConvergenceWarning: lbfgs failed to converge (status=1):\n",
            "STOP: TOTAL NO. of ITERATIONS REACHED LIMIT.\n",
            "\n",
            "Increase the number of iterations (max_iter) or scale the data as shown in:\n",
            "    https://scikit-learn.org/stable/modules/preprocessing.html\n",
            "Please also refer to the documentation for alternative solver options:\n",
            "    https://scikit-learn.org/stable/modules/linear_model.html#logistic-regression\n",
            "  n_iter_i = _check_optimize_result(\n"
          ]
        },
        {
          "output_type": "stream",
          "name": "stdout",
          "text": [
            "The accuracy of the Logistic Regression is 0.9558873430607397\n",
            "The accuracy of the Random Forests is 0.9219545300305395\n",
            "The accuracy of the 5-NN is 0.8863250763488293\n",
            "Logistic Regression made 130 mistakes\n",
            "Random Forests made 230 mistakes\n",
            "5-NN made 335 mistakes\n"
          ]
        }
      ]
    },
    {
      "cell_type": "code",
      "source": [
        "from tensorflow import keras\n",
        "model = keras.Sequential([\n",
        "    keras.layers.Dense(512, activation='relu', input_shape=(Xtrain.shape[1],)),\n",
        "    keras.layers.Dense(256, activation='relu'),\n",
        "    keras.layers.Dense(128, activation='relu'),\n",
        "    keras.layers.Dense(64, activation='relu'),\n",
        "    keras.layers.Dense(32, activation='relu'),\n",
        "    keras.layers.Dense(16, activation='relu'),\n",
        "    keras.layers.Dense(6, activation='softmax')\n",
        "])\n",
        "\n",
        "model.compile(loss='sparse_categorical_crossentropy', optimizer='adam', metrics=['accuracy'])\n",
        "\n",
        "history = model.fit(Xtrain, Ytrain, epochs=50, batch_size=32, validation_split=0.2)\n",
        "\n",
        "test_loss, test_acc = model.evaluate(Xtest, Ytest)\n",
        "print('Test accuracy:', test_acc)\n"
      ],
      "metadata": {
        "colab": {
          "base_uri": "https://localhost:8080/"
        },
        "id": "v-msmdRQ9gKK",
        "outputId": "96cac5db-c2ec-4390-bd29-41eafd737507"
      },
      "execution_count": 57,
      "outputs": [
        {
          "output_type": "stream",
          "name": "stdout",
          "text": [
            "Epoch 1/50\n",
            "184/184 [==============================] - 4s 13ms/step - loss: 0.6122 - accuracy: 0.7604 - val_loss: 0.2526 - val_accuracy: 0.9143\n",
            "Epoch 2/50\n",
            "184/184 [==============================] - 2s 9ms/step - loss: 0.2021 - accuracy: 0.9199 - val_loss: 0.2205 - val_accuracy: 0.9130\n",
            "Epoch 3/50\n",
            "184/184 [==============================] - 2s 9ms/step - loss: 0.1077 - accuracy: 0.9580 - val_loss: 0.2051 - val_accuracy: 0.9252\n",
            "Epoch 4/50\n",
            "184/184 [==============================] - 2s 9ms/step - loss: 0.1174 - accuracy: 0.9546 - val_loss: 0.2258 - val_accuracy: 0.9307\n",
            "Epoch 5/50\n",
            "184/184 [==============================] - 2s 13ms/step - loss: 0.0672 - accuracy: 0.9716 - val_loss: 0.2453 - val_accuracy: 0.9273\n",
            "Epoch 6/50\n",
            "184/184 [==============================] - 3s 16ms/step - loss: 0.0803 - accuracy: 0.9706 - val_loss: 0.1934 - val_accuracy: 0.9313\n",
            "Epoch 7/50\n",
            "184/184 [==============================] - 2s 11ms/step - loss: 0.0643 - accuracy: 0.9760 - val_loss: 0.1463 - val_accuracy: 0.9422\n",
            "Epoch 8/50\n",
            "184/184 [==============================] - 2s 13ms/step - loss: 0.0608 - accuracy: 0.9781 - val_loss: 0.2173 - val_accuracy: 0.9347\n",
            "Epoch 9/50\n",
            "184/184 [==============================] - 2s 9ms/step - loss: 0.0764 - accuracy: 0.9723 - val_loss: 0.1440 - val_accuracy: 0.9463\n",
            "Epoch 10/50\n",
            "184/184 [==============================] - 2s 9ms/step - loss: 0.0480 - accuracy: 0.9828 - val_loss: 0.1920 - val_accuracy: 0.9409\n",
            "Epoch 11/50\n",
            "184/184 [==============================] - 2s 9ms/step - loss: 0.0425 - accuracy: 0.9838 - val_loss: 0.1883 - val_accuracy: 0.9436\n",
            "Epoch 12/50\n",
            "184/184 [==============================] - 2s 11ms/step - loss: 0.0641 - accuracy: 0.9759 - val_loss: 0.1450 - val_accuracy: 0.9504\n",
            "Epoch 13/50\n",
            "184/184 [==============================] - 2s 13ms/step - loss: 0.0658 - accuracy: 0.9764 - val_loss: 0.1695 - val_accuracy: 0.9463\n",
            "Epoch 14/50\n",
            "184/184 [==============================] - 2s 9ms/step - loss: 0.0431 - accuracy: 0.9837 - val_loss: 0.2406 - val_accuracy: 0.9286\n",
            "Epoch 15/50\n",
            "184/184 [==============================] - 2s 9ms/step - loss: 0.0895 - accuracy: 0.9696 - val_loss: 0.2005 - val_accuracy: 0.9381\n",
            "Epoch 16/50\n",
            "184/184 [==============================] - 2s 10ms/step - loss: 0.0670 - accuracy: 0.9728 - val_loss: 0.2488 - val_accuracy: 0.9205\n",
            "Epoch 17/50\n",
            "184/184 [==============================] - 2s 10ms/step - loss: 0.0534 - accuracy: 0.9764 - val_loss: 0.1950 - val_accuracy: 0.9456\n",
            "Epoch 18/50\n",
            "184/184 [==============================] - 2s 9ms/step - loss: 0.0641 - accuracy: 0.9789 - val_loss: 0.1546 - val_accuracy: 0.9497\n",
            "Epoch 19/50\n",
            "184/184 [==============================] - 2s 12ms/step - loss: 0.0417 - accuracy: 0.9845 - val_loss: 0.2101 - val_accuracy: 0.9415\n",
            "Epoch 20/50\n",
            "184/184 [==============================] - 2s 12ms/step - loss: 0.0451 - accuracy: 0.9830 - val_loss: 0.2000 - val_accuracy: 0.9470\n",
            "Epoch 21/50\n",
            "184/184 [==============================] - 2s 9ms/step - loss: 0.0683 - accuracy: 0.9765 - val_loss: 0.1297 - val_accuracy: 0.9531\n",
            "Epoch 22/50\n",
            "184/184 [==============================] - 2s 9ms/step - loss: 0.0687 - accuracy: 0.9767 - val_loss: 0.1277 - val_accuracy: 0.9585\n",
            "Epoch 23/50\n",
            "184/184 [==============================] - 2s 10ms/step - loss: 0.0403 - accuracy: 0.9847 - val_loss: 0.1559 - val_accuracy: 0.9531\n",
            "Epoch 24/50\n",
            "184/184 [==============================] - 2s 9ms/step - loss: 0.0368 - accuracy: 0.9866 - val_loss: 0.1568 - val_accuracy: 0.9572\n",
            "Epoch 25/50\n",
            "184/184 [==============================] - 2s 10ms/step - loss: 0.0331 - accuracy: 0.9872 - val_loss: 0.1222 - val_accuracy: 0.9606\n",
            "Epoch 26/50\n",
            "184/184 [==============================] - 3s 14ms/step - loss: 0.0293 - accuracy: 0.9891 - val_loss: 0.1428 - val_accuracy: 0.9531\n",
            "Epoch 27/50\n",
            "184/184 [==============================] - 2s 11ms/step - loss: 0.0368 - accuracy: 0.9867 - val_loss: 0.1758 - val_accuracy: 0.9551\n",
            "Epoch 28/50\n",
            "184/184 [==============================] - 2s 10ms/step - loss: 0.0363 - accuracy: 0.9861 - val_loss: 0.1217 - val_accuracy: 0.9545\n",
            "Epoch 29/50\n",
            "184/184 [==============================] - 2s 10ms/step - loss: 0.0412 - accuracy: 0.9872 - val_loss: 0.2346 - val_accuracy: 0.9300\n",
            "Epoch 30/50\n",
            "184/184 [==============================] - 2s 10ms/step - loss: 0.0470 - accuracy: 0.9830 - val_loss: 0.1490 - val_accuracy: 0.9572\n",
            "Epoch 31/50\n",
            "184/184 [==============================] - 2s 10ms/step - loss: 0.0509 - accuracy: 0.9844 - val_loss: 0.1223 - val_accuracy: 0.9599\n",
            "Epoch 32/50\n",
            "184/184 [==============================] - 2s 11ms/step - loss: 0.0438 - accuracy: 0.9832 - val_loss: 0.1370 - val_accuracy: 0.9572\n",
            "Epoch 33/50\n",
            "184/184 [==============================] - 2s 13ms/step - loss: 0.0238 - accuracy: 0.9910 - val_loss: 0.1676 - val_accuracy: 0.9517\n",
            "Epoch 34/50\n",
            "184/184 [==============================] - 2s 10ms/step - loss: 0.0306 - accuracy: 0.9889 - val_loss: 0.1450 - val_accuracy: 0.9592\n",
            "Epoch 35/50\n",
            "184/184 [==============================] - 2s 10ms/step - loss: 0.0306 - accuracy: 0.9883 - val_loss: 0.1277 - val_accuracy: 0.9606\n",
            "Epoch 36/50\n",
            "184/184 [==============================] - 2s 12ms/step - loss: 0.0331 - accuracy: 0.9864 - val_loss: 0.1387 - val_accuracy: 0.9592\n",
            "Epoch 37/50\n",
            "184/184 [==============================] - 2s 10ms/step - loss: 0.0595 - accuracy: 0.9779 - val_loss: 0.3278 - val_accuracy: 0.9279\n",
            "Epoch 38/50\n",
            "184/184 [==============================] - 2s 10ms/step - loss: 0.0593 - accuracy: 0.9801 - val_loss: 0.1663 - val_accuracy: 0.9483\n",
            "Epoch 39/50\n",
            "184/184 [==============================] - 3s 14ms/step - loss: 0.0307 - accuracy: 0.9881 - val_loss: 0.1568 - val_accuracy: 0.9531\n",
            "Epoch 40/50\n",
            "184/184 [==============================] - 2s 10ms/step - loss: 0.0320 - accuracy: 0.9872 - val_loss: 0.2199 - val_accuracy: 0.9463\n",
            "Epoch 41/50\n",
            "184/184 [==============================] - 2s 10ms/step - loss: 0.0413 - accuracy: 0.9889 - val_loss: 0.1464 - val_accuracy: 0.9606\n",
            "Epoch 42/50\n",
            "184/184 [==============================] - 2s 10ms/step - loss: 0.0282 - accuracy: 0.9884 - val_loss: 0.1387 - val_accuracy: 0.9579\n",
            "Epoch 43/50\n",
            "184/184 [==============================] - 2s 9ms/step - loss: 0.0282 - accuracy: 0.9898 - val_loss: 0.1189 - val_accuracy: 0.9619\n",
            "Epoch 44/50\n",
            "184/184 [==============================] - 2s 9ms/step - loss: 0.0298 - accuracy: 0.9876 - val_loss: 0.1303 - val_accuracy: 0.9585\n",
            "Epoch 45/50\n",
            "184/184 [==============================] - 2s 12ms/step - loss: 0.0242 - accuracy: 0.9913 - val_loss: 0.1426 - val_accuracy: 0.9606\n",
            "Epoch 46/50\n",
            "184/184 [==============================] - 2s 13ms/step - loss: 0.0221 - accuracy: 0.9920 - val_loss: 0.1401 - val_accuracy: 0.9558\n",
            "Epoch 47/50\n",
            "184/184 [==============================] - 2s 10ms/step - loss: 0.0240 - accuracy: 0.9901 - val_loss: 0.1503 - val_accuracy: 0.9585\n",
            "Epoch 48/50\n",
            "184/184 [==============================] - 2s 11ms/step - loss: 0.0208 - accuracy: 0.9917 - val_loss: 0.1427 - val_accuracy: 0.9613\n",
            "Epoch 49/50\n",
            "184/184 [==============================] - 2s 10ms/step - loss: 0.0302 - accuracy: 0.9876 - val_loss: 0.1501 - val_accuracy: 0.9613\n",
            "Epoch 50/50\n",
            "184/184 [==============================] - 2s 9ms/step - loss: 0.0145 - accuracy: 0.9942 - val_loss: 0.1763 - val_accuracy: 0.9619\n",
            "93/93 [==============================] - 0s 3ms/step - loss: 0.3274 - accuracy: 0.9494\n",
            "Test accuracy: 0.9494401216506958\n"
          ]
        }
      ]
    },
    {
      "cell_type": "code",
      "source": [
        "model2 = keras.Sequential([\n",
        "    keras.layers.Dense(512, activation='relu', input_shape=(Xtrain.shape[1],)),\n",
        "    keras.layers.Dense(256, activation='relu'),\n",
        "    keras.layers.Dense(128, activation='relu'),\n",
        "    keras.layers.Dense(64, activation='relu'),\n",
        "    keras.layers.Dense(32, activation='relu'),\n",
        "    keras.layers.Dense(16, activation='relu'),\n",
        "    keras.layers.Dense(6, activation='softmax')\n",
        "])\n",
        "\n",
        "model2.compile(loss='sparse_categorical_crossentropy', optimizer='adam', metrics=['accuracy'])\n",
        "# use normalized features\n",
        "history2 = model2.fit(train_features, Ytrain, epochs=50, batch_size=32, validation_split=0.2)\n",
        "\n",
        "test_loss, test_acc2 = model2.evaluate(test_features, Ytest)\n",
        "print('Test accuracy:', test_acc2)"
      ],
      "metadata": {
        "colab": {
          "base_uri": "https://localhost:8080/"
        },
        "id": "6773M2qMGKA1",
        "outputId": "7bbc11ad-9e74-40c5-ca02-132e21994794"
      },
      "execution_count": null,
      "outputs": [
        {
          "output_type": "stream",
          "name": "stdout",
          "text": [
            "Epoch 1/50\n",
            "184/184 [==============================] - 6s 10ms/step - loss: 0.3119 - accuracy: 0.8808 - val_loss: 0.1562 - val_accuracy: 0.9415\n",
            "Epoch 2/50\n",
            "184/184 [==============================] - 2s 9ms/step - loss: 0.1002 - accuracy: 0.9621 - val_loss: 0.1738 - val_accuracy: 0.9415\n",
            "Epoch 3/50\n",
            "184/184 [==============================] - 2s 9ms/step - loss: 0.0775 - accuracy: 0.9719 - val_loss: 0.2049 - val_accuracy: 0.9354\n",
            "Epoch 4/50\n",
            "184/184 [==============================] - 2s 9ms/step - loss: 0.0649 - accuracy: 0.9774 - val_loss: 0.2659 - val_accuracy: 0.9259\n",
            "Epoch 5/50\n",
            "184/184 [==============================] - 2s 9ms/step - loss: 0.0600 - accuracy: 0.9801 - val_loss: 0.2139 - val_accuracy: 0.9395\n",
            "Epoch 6/50\n",
            " 10/184 [>.............................] - ETA: 2s - loss: 0.0517 - accuracy: 0.9937"
          ]
        }
      ]
    }
  ]
}